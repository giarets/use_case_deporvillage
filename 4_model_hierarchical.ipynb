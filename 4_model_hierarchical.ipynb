{
 "cells": [
  {
   "cell_type": "markdown",
   "metadata": {},
   "source": [
    "# Hierarchical Forecasting   \n",
    "  \n",
    "What It Is   \n",
    "\t- Hierarchical forecasting aggregates data at higher levels (e.g., brand level or total sales) to compensate for sparsity at lower levels (e.g., brand + family).   \n",
    "\t- Predictions are made at the higher levels and disaggregated down to smaller groups (e.g., brand-family) using proportions.   \n",
    "  \n",
    "Steps to Implement   \n",
    "1.\tAggregate to Higher Levels:   \n",
    "\t- Aggregate sparse brand-family data up to broader levels:   \n",
    "\t- Brand level: brand_total_sales  \n",
    "\t- Family level: family_total_sales  \n",
    "\t- Overall total: global_total_sales  \n",
    "\t- Use the aggregated time series to train the model.  \n",
    "2.\tForecast at Higher Levels:   \n",
    "\t- Predict sales at the aggregated levels using richer historical data.  \n",
    "3.\tDisaggregate Forecasts:  \n",
    "\t- Split the higher-level forecasts back down to the brand-family level using historical proportions. For example:\n",
    "$\\text{brand\\_family\\_forecast} = \\text{brand\\_forecast} \\times \\frac{\\text{brand\\_family\\_sales}}{\\text{brand\\_total\\_sales}}$  \n",
    "4.\tSmooth Proportions for Stability:  \n",
    "\t- Use smoothed historical proportions (e.g., rolling averages) to prevent overfitting to noisy historical proportions.  \n",
    "\n"
   ]
  },
  {
   "cell_type": "code",
   "execution_count": 1,
   "metadata": {},
   "outputs": [],
   "source": [
    "import pandas as pd\n",
    "import utils.utils_models as utils_models\n",
    "\n",
    "import utils.utils_preprocessing as utils_preprocessing\n",
    "import utils.utils_features as utils_features"
   ]
  },
  {
   "cell_type": "code",
   "execution_count": 2,
   "metadata": {},
   "outputs": [],
   "source": [
    "df_sales = pd.read_parquet(\"data/sales.parquet\")\n",
    "df_products = pd.read_parquet(\"data/products.parquet\")\n",
    "df = df_sales.merge(df_products, on=\"product_id\")"
   ]
  },
  {
   "cell_type": "code",
   "execution_count": 3,
   "metadata": {},
   "outputs": [],
   "source": [
    "df = utils_preprocessing.set_types(df)\n",
    "df = utils_preprocessing.filter_dates(df, date=\"2024-09-01\")\n",
    "\n",
    "df_monthly = utils_preprocessing.aggregate_data(\n",
    "    df, \n",
    "    frequency=\"ME\"\n",
    "    )\n",
    "df_monthly = utils_preprocessing.fill_in_missing_dates(\n",
    "    df_monthly, \n",
    "    group_col=[\"brand\", \"family\"], \n",
    "    date_col=\"date\", \n",
    "    freq=\"ME\"\n",
    "    )\n",
    "df_monthly = utils_features.features_time_related(\n",
    "    df_monthly, \n",
    "    frequency='ME'\n",
    "    )"
   ]
  },
  {
   "cell_type": "code",
   "execution_count": 4,
   "metadata": {},
   "outputs": [],
   "source": [
    "train_end_date = df_monthly['date'].max() - pd.DateOffset(months=12)\n",
    "\n",
    "train_data = df_monthly[df_monthly['date'] <= train_end_date]\n",
    "test_data = df_monthly[df_monthly['date'] > train_end_date]\n",
    "X_train, X_test, y_train, y_test = utils_preprocessing.train_test_split(df_monthly, forecasting_horizon=12, target_col=\"total_revenue\")"
   ]
  },
  {
   "cell_type": "markdown",
   "metadata": {},
   "source": [
    "## Exponential smoothing"
   ]
  },
  {
   "cell_type": "code",
   "execution_count": 19,
   "metadata": {},
   "outputs": [
    {
     "name": "stderr",
     "output_type": "stream",
     "text": [
      "/Users/matteogiaretti/Python/use_case_deporvillage/.venv/lib/python3.13/site-packages/statsmodels/tsa/base/tsa_model.py:473: ValueWarning: No frequency information was provided, so inferred frequency ME will be used.\n",
      "  self._init_dates(dates, freq)\n",
      "/Users/matteogiaretti/Python/use_case_deporvillage/.venv/lib/python3.13/site-packages/statsmodels/tsa/holtwinters/model.py:918: ConvergenceWarning: Optimization failed to converge. Check mle_retvals.\n",
      "  warnings.warn(\n"
     ]
    },
    {
     "data": {
      "application/vnd.microsoft.datawrangler.viewer.v0+json": {
       "columns": [
        {
         "name": "index",
         "rawType": "int64",
         "type": "integer"
        },
        {
         "name": "date",
         "rawType": "datetime64[ns]",
         "type": "datetime"
        },
        {
         "name": "forecast_total_revenue",
         "rawType": "float64",
         "type": "float"
        },
        {
         "name": "month",
         "rawType": "int32",
         "type": "integer"
        },
        {
         "name": "total_revenue_agg",
         "rawType": "float32",
         "type": "float"
        }
       ],
       "conversionMethod": "pd.DataFrame",
       "ref": "fc8d8ff8-a236-4681-9bc0-12a1439da23e",
       "rows": [
        [
         "0",
         "2023-09-30 00:00:00",
         "80812.9028815306",
         "9",
         "87625.17"
        ],
        [
         "1",
         "2023-10-31 00:00:00",
         "81136.50197920759",
         "10",
         "117640.76"
        ],
        [
         "2",
         "2023-11-30 00:00:00",
         "143901.40679537586",
         "11",
         "138087.47"
        ],
        [
         "3",
         "2023-12-31 00:00:00",
         "148323.79258610593",
         "12",
         "153979.58"
        ],
        [
         "4",
         "2024-01-31 00:00:00",
         "146305.2234038834",
         "1",
         "150035.64"
        ],
        [
         "5",
         "2024-02-29 00:00:00",
         "110954.14425829897",
         "2",
         "116420.75"
        ],
        [
         "6",
         "2024-03-31 00:00:00",
         "131544.8394818539",
         "3",
         "151570.11"
        ],
        [
         "7",
         "2024-04-30 00:00:00",
         "135600.92849063606",
         "4",
         "152115.08"
        ],
        [
         "8",
         "2024-05-31 00:00:00",
         "131699.4374335477",
         "5",
         "146470.39"
        ],
        [
         "9",
         "2024-06-30 00:00:00",
         "112841.82677711414",
         "6",
         "126623.59"
        ],
        [
         "10",
         "2024-07-31 00:00:00",
         "107351.70801234728",
         "7",
         "109225.29"
        ],
        [
         "11",
         "2024-08-31 00:00:00",
         "117112.28357063743",
         "8",
         "119360.234"
        ]
       ],
       "shape": {
        "columns": 4,
        "rows": 12
       }
      },
      "text/html": [
       "<div>\n",
       "<style scoped>\n",
       "    .dataframe tbody tr th:only-of-type {\n",
       "        vertical-align: middle;\n",
       "    }\n",
       "\n",
       "    .dataframe tbody tr th {\n",
       "        vertical-align: top;\n",
       "    }\n",
       "\n",
       "    .dataframe thead th {\n",
       "        text-align: right;\n",
       "    }\n",
       "</style>\n",
       "<table border=\"1\" class=\"dataframe\">\n",
       "  <thead>\n",
       "    <tr style=\"text-align: right;\">\n",
       "      <th></th>\n",
       "      <th>date</th>\n",
       "      <th>forecast_total_revenue</th>\n",
       "      <th>month</th>\n",
       "      <th>total_revenue_agg</th>\n",
       "    </tr>\n",
       "  </thead>\n",
       "  <tbody>\n",
       "    <tr>\n",
       "      <th>0</th>\n",
       "      <td>2023-09-30</td>\n",
       "      <td>80812.902882</td>\n",
       "      <td>9</td>\n",
       "      <td>87625.171875</td>\n",
       "    </tr>\n",
       "    <tr>\n",
       "      <th>1</th>\n",
       "      <td>2023-10-31</td>\n",
       "      <td>81136.501979</td>\n",
       "      <td>10</td>\n",
       "      <td>117640.757812</td>\n",
       "    </tr>\n",
       "    <tr>\n",
       "      <th>2</th>\n",
       "      <td>2023-11-30</td>\n",
       "      <td>143901.406795</td>\n",
       "      <td>11</td>\n",
       "      <td>138087.468750</td>\n",
       "    </tr>\n",
       "    <tr>\n",
       "      <th>3</th>\n",
       "      <td>2023-12-31</td>\n",
       "      <td>148323.792586</td>\n",
       "      <td>12</td>\n",
       "      <td>153979.578125</td>\n",
       "    </tr>\n",
       "    <tr>\n",
       "      <th>4</th>\n",
       "      <td>2024-01-31</td>\n",
       "      <td>146305.223404</td>\n",
       "      <td>1</td>\n",
       "      <td>150035.640625</td>\n",
       "    </tr>\n",
       "    <tr>\n",
       "      <th>5</th>\n",
       "      <td>2024-02-29</td>\n",
       "      <td>110954.144258</td>\n",
       "      <td>2</td>\n",
       "      <td>116420.750000</td>\n",
       "    </tr>\n",
       "    <tr>\n",
       "      <th>6</th>\n",
       "      <td>2024-03-31</td>\n",
       "      <td>131544.839482</td>\n",
       "      <td>3</td>\n",
       "      <td>151570.109375</td>\n",
       "    </tr>\n",
       "    <tr>\n",
       "      <th>7</th>\n",
       "      <td>2024-04-30</td>\n",
       "      <td>135600.928491</td>\n",
       "      <td>4</td>\n",
       "      <td>152115.078125</td>\n",
       "    </tr>\n",
       "    <tr>\n",
       "      <th>8</th>\n",
       "      <td>2024-05-31</td>\n",
       "      <td>131699.437434</td>\n",
       "      <td>5</td>\n",
       "      <td>146470.390625</td>\n",
       "    </tr>\n",
       "    <tr>\n",
       "      <th>9</th>\n",
       "      <td>2024-06-30</td>\n",
       "      <td>112841.826777</td>\n",
       "      <td>6</td>\n",
       "      <td>126623.593750</td>\n",
       "    </tr>\n",
       "    <tr>\n",
       "      <th>10</th>\n",
       "      <td>2024-07-31</td>\n",
       "      <td>107351.708012</td>\n",
       "      <td>7</td>\n",
       "      <td>109225.289062</td>\n",
       "    </tr>\n",
       "    <tr>\n",
       "      <th>11</th>\n",
       "      <td>2024-08-31</td>\n",
       "      <td>117112.283571</td>\n",
       "      <td>8</td>\n",
       "      <td>119360.234375</td>\n",
       "    </tr>\n",
       "  </tbody>\n",
       "</table>\n",
       "</div>"
      ],
      "text/plain": [
       "         date  forecast_total_revenue  month  total_revenue_agg\n",
       "0  2023-09-30            80812.902882      9       87625.171875\n",
       "1  2023-10-31            81136.501979     10      117640.757812\n",
       "2  2023-11-30           143901.406795     11      138087.468750\n",
       "3  2023-12-31           148323.792586     12      153979.578125\n",
       "4  2024-01-31           146305.223404      1      150035.640625\n",
       "5  2024-02-29           110954.144258      2      116420.750000\n",
       "6  2024-03-31           131544.839482      3      151570.109375\n",
       "7  2024-04-30           135600.928491      4      152115.078125\n",
       "8  2024-05-31           131699.437434      5      146470.390625\n",
       "9  2024-06-30           112841.826777      6      126623.593750\n",
       "10 2024-07-31           107351.708012      7      109225.289062\n",
       "11 2024-08-31           117112.283571      8      119360.234375"
      ]
     },
     "execution_count": 19,
     "metadata": {},
     "output_type": "execute_result"
    },
    {
     "data": {
      "image/png": "[encoded data removed]",
      "text/plain": [
       "<Figure size 640x480 with 1 Axes>"
      ]
     },
     "metadata": {},
     "output_type": "display_data"
    }
   ],
   "source": [
    "hyperparameters = {\n",
    "    \"trend\": \"mul\",           \n",
    "    \"seasonal\": \"mul\",       \n",
    "    \"seasonal_periods\": 12, \n",
    "    \"steps_ahead\": 12, \n",
    "}\n",
    "\n",
    "exp_smoothing_model = utils_models.HierarchicalModel(forecasting_model=\"ExponentialSmoothing\", hyperparameters=hyperparameters)\n",
    "exp_smoothing_model.train(X_train=train_data, y_train=None)\n",
    "exp_smoothing_model.evaluate_agg_forecast(test_data)"
   ]
  },
  {
   "cell_type": "code",
   "execution_count": 20,
   "metadata": {},
   "outputs": [
    {
     "data": {
      "text/plain": [
       "np.float64(1871.402)"
      ]
     },
     "execution_count": 20,
     "metadata": {},
     "output_type": "execute_result"
    }
   ],
   "source": [
    "df_predictions = exp_smoothing_model.predict(X_test)\n",
    "df_predictions = pd.merge(test_data[['date', 'brand', 'family', 'total_revenue']], df_predictions, on=['date', 'brand', 'family'], how='left')\n",
    "exp_smoothing_model.evaluate(df_predictions['total_revenue'], df_predictions['forecast_revenue'])"
   ]
  },
  {
   "cell_type": "markdown",
   "metadata": {},
   "source": [
    "## Sarima"
   ]
  },
  {
   "cell_type": "code",
   "execution_count": 21,
   "metadata": {},
   "outputs": [
    {
     "name": "stderr",
     "output_type": "stream",
     "text": [
      "/Users/matteogiaretti/Python/use_case_deporvillage/.venv/lib/python3.13/site-packages/statsmodels/tsa/base/tsa_model.py:473: ValueWarning: No frequency information was provided, so inferred frequency ME will be used.\n",
      "  self._init_dates(dates, freq)\n",
      "/Users/matteogiaretti/Python/use_case_deporvillage/.venv/lib/python3.13/site-packages/statsmodels/tsa/base/tsa_model.py:473: ValueWarning: No frequency information was provided, so inferred frequency ME will be used.\n",
      "  self._init_dates(dates, freq)\n",
      "/Users/matteogiaretti/Python/use_case_deporvillage/.venv/lib/python3.13/site-packages/statsmodels/tsa/statespace/sarimax.py:866: UserWarning: Too few observations to estimate starting parameters for seasonal ARMA. All parameters except for variances will be set to zeros.\n",
      "  warn('Too few observations to estimate starting parameters%s.'\n"
     ]
    },
    {
     "data": {
      "application/vnd.microsoft.datawrangler.viewer.v0+json": {
       "columns": [
        {
         "name": "index",
         "rawType": "int64",
         "type": "integer"
        },
        {
         "name": "date",
         "rawType": "datetime64[ns]",
         "type": "datetime"
        },
        {
         "name": "forecast_total_revenue",
         "rawType": "float64",
         "type": "float"
        },
        {
         "name": "month",
         "rawType": "int32",
         "type": "integer"
        },
        {
         "name": "total_revenue_agg",
         "rawType": "float32",
         "type": "float"
        }
       ],
       "conversionMethod": "pd.DataFrame",
       "ref": "21de86c3-a347-457c-a5f2-784b28ffabf9",
       "rows": [
        [
         "0",
         "2023-09-30 00:00:00",
         "80007.22897268608",
         "9",
         "87625.17"
        ],
        [
         "1",
         "2023-10-31 00:00:00",
         "78007.84293799527",
         "10",
         "117640.76"
        ],
        [
         "2",
         "2023-11-30 00:00:00",
         "129691.41847087319",
         "11",
         "138087.47"
        ],
        [
         "3",
         "2023-12-31 00:00:00",
         "129367.8945514016",
         "12",
         "153979.58"
        ],
        [
         "4",
         "2024-01-31 00:00:00",
         "124284.65364492213",
         "1",
         "150035.64"
        ],
        [
         "5",
         "2024-02-29 00:00:00",
         "92738.67263781509",
         "2",
         "116420.75"
        ],
        [
         "6",
         "2024-03-31 00:00:00",
         "101125.50984458732",
         "3",
         "151570.11"
        ],
        [
         "7",
         "2024-04-30 00:00:00",
         "99445.59157024494",
         "4",
         "152115.08"
        ],
        [
         "8",
         "2024-05-31 00:00:00",
         "97812.68004032804",
         "5",
         "146470.39"
        ],
        [
         "9",
         "2024-06-30 00:00:00",
         "80088.51372203037",
         "6",
         "126623.59"
        ],
        [
         "10",
         "2024-07-31 00:00:00",
         "74562.48995773427",
         "7",
         "109225.29"
        ],
        [
         "11",
         "2024-08-31 00:00:00",
         "80267.727553834",
         "8",
         "119360.234"
        ]
       ],
       "shape": {
        "columns": 4,
        "rows": 12
       }
      },
      "text/html": [
       "<div>\n",
       "<style scoped>\n",
       "    .dataframe tbody tr th:only-of-type {\n",
       "        vertical-align: middle;\n",
       "    }\n",
       "\n",
       "    .dataframe tbody tr th {\n",
       "        vertical-align: top;\n",
       "    }\n",
       "\n",
       "    .dataframe thead th {\n",
       "        text-align: right;\n",
       "    }\n",
       "</style>\n",
       "<table border=\"1\" class=\"dataframe\">\n",
       "  <thead>\n",
       "    <tr style=\"text-align: right;\">\n",
       "      <th></th>\n",
       "      <th>date</th>\n",
       "      <th>forecast_total_revenue</th>\n",
       "      <th>month</th>\n",
       "      <th>total_revenue_agg</th>\n",
       "    </tr>\n",
       "  </thead>\n",
       "  <tbody>\n",
       "    <tr>\n",
       "      <th>0</th>\n",
       "      <td>2023-09-30</td>\n",
       "      <td>80007.228973</td>\n",
       "      <td>9</td>\n",
       "      <td>87625.171875</td>\n",
       "    </tr>\n",
       "    <tr>\n",
       "      <th>1</th>\n",
       "      <td>2023-10-31</td>\n",
       "      <td>78007.842938</td>\n",
       "      <td>10</td>\n",
       "      <td>117640.757812</td>\n",
       "    </tr>\n",
       "    <tr>\n",
       "      <th>2</th>\n",
       "      <td>2023-11-30</td>\n",
       "      <td>129691.418471</td>\n",
       "      <td>11</td>\n",
       "      <td>138087.468750</td>\n",
       "    </tr>\n",
       "    <tr>\n",
       "      <th>3</th>\n",
       "      <td>2023-12-31</td>\n",
       "      <td>129367.894551</td>\n",
       "      <td>12</td>\n",
       "      <td>153979.578125</td>\n",
       "    </tr>\n",
       "    <tr>\n",
       "      <th>4</th>\n",
       "      <td>2024-01-31</td>\n",
       "      <td>124284.653645</td>\n",
       "      <td>1</td>\n",
       "      <td>150035.640625</td>\n",
       "    </tr>\n",
       "    <tr>\n",
       "      <th>5</th>\n",
       "      <td>2024-02-29</td>\n",
       "      <td>92738.672638</td>\n",
       "      <td>2</td>\n",
       "      <td>116420.750000</td>\n",
       "    </tr>\n",
       "    <tr>\n",
       "      <th>6</th>\n",
       "      <td>2024-03-31</td>\n",
       "      <td>101125.509845</td>\n",
       "      <td>3</td>\n",
       "      <td>151570.109375</td>\n",
       "    </tr>\n",
       "    <tr>\n",
       "      <th>7</th>\n",
       "      <td>2024-04-30</td>\n",
       "      <td>99445.591570</td>\n",
       "      <td>4</td>\n",
       "      <td>152115.078125</td>\n",
       "    </tr>\n",
       "    <tr>\n",
       "      <th>8</th>\n",
       "      <td>2024-05-31</td>\n",
       "      <td>97812.680040</td>\n",
       "      <td>5</td>\n",
       "      <td>146470.390625</td>\n",
       "    </tr>\n",
       "    <tr>\n",
       "      <th>9</th>\n",
       "      <td>2024-06-30</td>\n",
       "      <td>80088.513722</td>\n",
       "      <td>6</td>\n",
       "      <td>126623.593750</td>\n",
       "    </tr>\n",
       "    <tr>\n",
       "      <th>10</th>\n",
       "      <td>2024-07-31</td>\n",
       "      <td>74562.489958</td>\n",
       "      <td>7</td>\n",
       "      <td>109225.289062</td>\n",
       "    </tr>\n",
       "    <tr>\n",
       "      <th>11</th>\n",
       "      <td>2024-08-31</td>\n",
       "      <td>80267.727554</td>\n",
       "      <td>8</td>\n",
       "      <td>119360.234375</td>\n",
       "    </tr>\n",
       "  </tbody>\n",
       "</table>\n",
       "</div>"
      ],
      "text/plain": [
       "         date  forecast_total_revenue  month  total_revenue_agg\n",
       "0  2023-09-30            80007.228973      9       87625.171875\n",
       "1  2023-10-31            78007.842938     10      117640.757812\n",
       "2  2023-11-30           129691.418471     11      138087.468750\n",
       "3  2023-12-31           129367.894551     12      153979.578125\n",
       "4  2024-01-31           124284.653645      1      150035.640625\n",
       "5  2024-02-29            92738.672638      2      116420.750000\n",
       "6  2024-03-31           101125.509845      3      151570.109375\n",
       "7  2024-04-30            99445.591570      4      152115.078125\n",
       "8  2024-05-31            97812.680040      5      146470.390625\n",
       "9  2024-06-30            80088.513722      6      126623.593750\n",
       "10 2024-07-31            74562.489958      7      109225.289062\n",
       "11 2024-08-31            80267.727554      8      119360.234375"
      ]
     },
     "execution_count": 21,
     "metadata": {},
     "output_type": "execute_result"
    },
    {
     "data": {
      "image/png": "[encoded data removed]",
      "text/plain": [
       "<Figure size 640x480 with 1 Axes>"
      ]
     },
     "metadata": {},
     "output_type": "display_data"
    }
   ],
   "source": [
    "# Predict with aggregated data (SARIMA)\n",
    "\n",
    "hyperparameters = {\n",
    "    \"order\": (1, 1, 1),            \n",
    "    \"seasonal_order\": (1, 1, 1, 12),  \n",
    "    \"steps_ahead\": 12       \n",
    "}\n",
    "sarima_model = utils_models.HierarchicalModel(forecasting_model=\"Sarima\", hyperparameters=hyperparameters)\n",
    "sarima_model.train(X_train=train_data, y_train=None)\n",
    "sarima_model.evaluate_agg_forecast(test_data)"
   ]
  },
  {
   "cell_type": "code",
   "execution_count": 22,
   "metadata": {},
   "outputs": [
    {
     "data": {
      "text/plain": [
       "np.float64(2140.156)"
      ]
     },
     "execution_count": 22,
     "metadata": {},
     "output_type": "execute_result"
    }
   ],
   "source": [
    "df_predictions = sarima_model.predict(X_test)\n",
    "df_predictions = pd.merge(test_data[['date', 'brand', 'family', 'total_revenue']], df_predictions, on=['date', 'brand', 'family'], how='left')\n",
    "sarima_model.evaluate(df_predictions['total_revenue'], df_predictions['forecast_revenue'])"
   ]
  },
  {
   "cell_type": "code",
   "execution_count": 17,
   "metadata": {},
   "outputs": [
    {
     "data": {
      "text/plain": [
       "<Axes: >"
      ]
     },
     "execution_count": 17,
     "metadata": {},
     "output_type": "execute_result"
    },
    {
     "data": {
      "image/png": "[encoded data removed]",
      "text/plain": [
       "<Figure size 640x480 with 1 Axes>"
      ]
     },
     "metadata": {},
     "output_type": "display_data"
    }
   ],
   "source": [
    "family = \"Chándales Urban\"\n",
    "brand = \"adidas\"\n",
    "df_predictions[(df_predictions[\"family\"] == family) & (df_predictions[\"brand\"] == brand)][[\"total_revenue\", \"forecast_revenue\"]].plot()"
   ]
  },
  {
   "cell_type": "code",
   "execution_count": 23,
   "metadata": {},
   "outputs": [
    {
     "data": {
      "application/vnd.microsoft.datawrangler.viewer.v0+json": {
       "columns": [
        {
         "name": "index",
         "rawType": "int64",
         "type": "integer"
        },
        {
         "name": "date",
         "rawType": "datetime64[ns]",
         "type": "datetime"
        },
        {
         "name": "brand",
         "rawType": "object",
         "type": "string"
        },
        {
         "name": "family",
         "rawType": "object",
         "type": "string"
        },
        {
         "name": "total_revenue",
         "rawType": "float32",
         "type": "float"
        },
        {
         "name": "forecast_revenue",
         "rawType": "float64",
         "type": "float"
        }
       ],
       "conversionMethod": "pd.DataFrame",
       "ref": "02f0867d-0cd4-481f-be81-d3219d78f272",
       "rows": [
        [
         "0",
         "2023-09-30 00:00:00",
         "Columbia",
         "Bañadores Natación",
         "99.95",
         "106.59"
        ],
        [
         "1",
         "2023-10-31 00:00:00",
         "Columbia",
         "Bañadores Natación",
         "99.95",
         "105.62"
        ],
        [
         "2",
         "2023-11-30 00:00:00",
         "Columbia",
         "Bañadores Natación",
         "99.95",
         "106.57"
        ],
        [
         "3",
         "2023-12-31 00:00:00",
         "Columbia",
         "Bañadores Natación",
         "99.95",
         "102.23"
        ],
        [
         "4",
         "2024-01-31 00:00:00",
         "Columbia",
         "Bañadores Natación",
         "99.95",
         "101.35"
        ],
        [
         "5",
         "2024-02-29 00:00:00",
         "Columbia",
         "Bañadores Natación",
         "99.95",
         "103.54"
        ],
        [
         "6",
         "2024-03-31 00:00:00",
         "Columbia",
         "Bañadores Natación",
         "99.95",
         "104.22"
        ],
        [
         "7",
         "2024-04-30 00:00:00",
         "Columbia",
         "Bañadores Natación",
         "99.95",
         "104.27"
        ],
        [
         "8",
         "2024-05-31 00:00:00",
         "Columbia",
         "Bañadores Natación",
         "99.95",
         "103.97"
        ],
        [
         "9",
         "2024-06-30 00:00:00",
         "Columbia",
         "Bañadores Natación",
         "99.95",
         "106.45"
        ],
        [
         "10",
         "2024-07-31 00:00:00",
         "Columbia",
         "Bañadores Natación",
         "180.0",
         "108.0"
        ],
        [
         "11",
         "2023-12-31 00:00:00",
         "Columbia",
         "Botas Urban",
         "260.0",
         "0.0"
        ],
        [
         "12",
         "2024-01-31 00:00:00",
         "Columbia",
         "Botas Urban",
         "260.0",
         "0.0"
        ],
        [
         "13",
         "2023-09-30 00:00:00",
         "Columbia",
         "Botas de montaña",
         "2209.65",
         "896.94"
        ],
        [
         "14",
         "2023-10-31 00:00:00",
         "Columbia",
         "Botas de montaña",
         "2628.95",
         "776.46"
        ],
        [
         "15",
         "2023-11-30 00:00:00",
         "Columbia",
         "Botas de montaña",
         "5798.6396",
         "1888.63"
        ],
        [
         "16",
         "2023-12-31 00:00:00",
         "Columbia",
         "Botas de montaña",
         "8135.2905",
         "2432.67"
        ],
        [
         "17",
         "2024-01-31 00:00:00",
         "Columbia",
         "Botas de montaña",
         "9757.591",
         "3430.91"
        ],
        [
         "18",
         "2024-02-29 00:00:00",
         "Columbia",
         "Botas de montaña",
         "6300.74",
         "2470.99"
        ],
        [
         "19",
         "2024-03-31 00:00:00",
         "Columbia",
         "Botas de montaña",
         "6068.95",
         "1932.7"
        ],
        [
         "20",
         "2024-04-30 00:00:00",
         "Columbia",
         "Botas de montaña",
         "4206.35",
         "1689.9"
        ],
        [
         "21",
         "2024-05-31 00:00:00",
         "Columbia",
         "Botas de montaña",
         "4197.65",
         "1164.51"
        ],
        [
         "22",
         "2024-06-30 00:00:00",
         "Columbia",
         "Botas de montaña",
         "3574.6",
         "595.56"
        ],
        [
         "23",
         "2024-07-31 00:00:00",
         "Columbia",
         "Botas de montaña",
         "2019.8999",
         "1018.55"
        ],
        [
         "24",
         "2024-08-31 00:00:00",
         "Columbia",
         "Botas de montaña",
         "1653.7999",
         "835.61"
        ],
        [
         "25",
         "2023-09-30 00:00:00",
         "Columbia",
         "Calzado Après-Ski",
         "300.0",
         "133.8"
        ],
        [
         "26",
         "2023-10-31 00:00:00",
         "Columbia",
         "Calzado Après-Ski",
         "300.0",
         "128.21"
        ],
        [
         "27",
         "2023-11-30 00:00:00",
         "Columbia",
         "Calzado Après-Ski",
         "349.95",
         "138.7"
        ],
        [
         "28",
         "2023-12-31 00:00:00",
         "Columbia",
         "Calzado Après-Ski",
         "519.85",
         "304.49"
        ],
        [
         "29",
         "2024-01-31 00:00:00",
         "Columbia",
         "Calzado Après-Ski",
         "339.95",
         "106.72"
        ],
        [
         "30",
         "2023-09-30 00:00:00",
         "Columbia",
         "Camisetas Outdoor",
         "399.0",
         "1609.79"
        ],
        [
         "31",
         "2023-10-31 00:00:00",
         "Columbia",
         "Camisetas Outdoor",
         "563.0",
         "695.48"
        ],
        [
         "32",
         "2023-11-30 00:00:00",
         "Columbia",
         "Camisetas Outdoor",
         "644.9",
         "1302.42"
        ],
        [
         "33",
         "2023-12-31 00:00:00",
         "Columbia",
         "Camisetas Outdoor",
         "966.94",
         "1282.85"
        ],
        [
         "34",
         "2024-01-31 00:00:00",
         "Columbia",
         "Camisetas Outdoor",
         "1316.99",
         "962.57"
        ],
        [
         "35",
         "2024-02-29 00:00:00",
         "Columbia",
         "Camisetas Outdoor",
         "1374.94",
         "1092.63"
        ],
        [
         "36",
         "2024-03-31 00:00:00",
         "Columbia",
         "Camisetas Outdoor",
         "1334.94",
         "1587.86"
        ],
        [
         "37",
         "2024-04-30 00:00:00",
         "Columbia",
         "Camisetas Outdoor",
         "1930.95",
         "1697.0"
        ],
        [
         "38",
         "2024-05-31 00:00:00",
         "Columbia",
         "Camisetas Outdoor",
         "2666.79",
         "1438.93"
        ],
        [
         "39",
         "2024-06-30 00:00:00",
         "Columbia",
         "Camisetas Outdoor",
         "2782.75",
         "1862.29"
        ],
        [
         "40",
         "2024-07-31 00:00:00",
         "Columbia",
         "Camisetas Outdoor",
         "2576.95",
         "1408.94"
        ],
        [
         "41",
         "2024-08-31 00:00:00",
         "Columbia",
         "Camisetas Outdoor",
         "1049.9",
         "1160.29"
        ],
        [
         "42",
         "2023-09-30 00:00:00",
         "Columbia",
         "Camisetas Urban",
         "140.0",
         "40.14"
        ],
        [
         "43",
         "2023-10-31 00:00:00",
         "Columbia",
         "Camisetas Urban",
         "140.0",
         "38.46"
        ],
        [
         "44",
         "2023-11-30 00:00:00",
         "Columbia",
         "Camisetas Urban",
         "140.0",
         "41.61"
        ],
        [
         "45",
         "2023-12-31 00:00:00",
         "Columbia",
         "Camisetas Urban",
         "140.0",
         "36.55"
        ],
        [
         "46",
         "2024-01-31 00:00:00",
         "Columbia",
         "Camisetas Urban",
         "140.0",
         "31.94"
        ],
        [
         "47",
         "2024-02-29 00:00:00",
         "Columbia",
         "Camisetas Urban",
         "140.0",
         "103.98"
        ],
        [
         "48",
         "2024-03-31 00:00:00",
         "Columbia",
         "Camisetas Urban",
         "110.0",
         "340.89"
        ],
        [
         "49",
         "2024-04-30 00:00:00",
         "Columbia",
         "Camisetas Urban",
         "80.0",
         "894.22"
        ]
       ],
       "shape": {
        "columns": 5,
        "rows": 877
       }
      },
      "text/html": [
       "<div>\n",
       "<style scoped>\n",
       "    .dataframe tbody tr th:only-of-type {\n",
       "        vertical-align: middle;\n",
       "    }\n",
       "\n",
       "    .dataframe tbody tr th {\n",
       "        vertical-align: top;\n",
       "    }\n",
       "\n",
       "    .dataframe thead th {\n",
       "        text-align: right;\n",
       "    }\n",
       "</style>\n",
       "<table border=\"1\" class=\"dataframe\">\n",
       "  <thead>\n",
       "    <tr style=\"text-align: right;\">\n",
       "      <th></th>\n",
       "      <th>date</th>\n",
       "      <th>brand</th>\n",
       "      <th>family</th>\n",
       "      <th>total_revenue</th>\n",
       "      <th>forecast_revenue</th>\n",
       "    </tr>\n",
       "  </thead>\n",
       "  <tbody>\n",
       "    <tr>\n",
       "      <th>0</th>\n",
       "      <td>2023-09-30</td>\n",
       "      <td>Columbia</td>\n",
       "      <td>Bañadores Natación</td>\n",
       "      <td>99.949997</td>\n",
       "      <td>106.59</td>\n",
       "    </tr>\n",
       "    <tr>\n",
       "      <th>1</th>\n",
       "      <td>2023-10-31</td>\n",
       "      <td>Columbia</td>\n",
       "      <td>Bañadores Natación</td>\n",
       "      <td>99.949997</td>\n",
       "      <td>105.62</td>\n",
       "    </tr>\n",
       "    <tr>\n",
       "      <th>2</th>\n",
       "      <td>2023-11-30</td>\n",
       "      <td>Columbia</td>\n",
       "      <td>Bañadores Natación</td>\n",
       "      <td>99.949997</td>\n",
       "      <td>106.57</td>\n",
       "    </tr>\n",
       "    <tr>\n",
       "      <th>3</th>\n",
       "      <td>2023-12-31</td>\n",
       "      <td>Columbia</td>\n",
       "      <td>Bañadores Natación</td>\n",
       "      <td>99.949997</td>\n",
       "      <td>102.23</td>\n",
       "    </tr>\n",
       "    <tr>\n",
       "      <th>4</th>\n",
       "      <td>2024-01-31</td>\n",
       "      <td>Columbia</td>\n",
       "      <td>Bañadores Natación</td>\n",
       "      <td>99.949997</td>\n",
       "      <td>101.35</td>\n",
       "    </tr>\n",
       "    <tr>\n",
       "      <th>...</th>\n",
       "      <td>...</td>\n",
       "      <td>...</td>\n",
       "      <td>...</td>\n",
       "      <td>...</td>\n",
       "      <td>...</td>\n",
       "    </tr>\n",
       "    <tr>\n",
       "      <th>872</th>\n",
       "      <td>2024-03-31</td>\n",
       "      <td>adidas</td>\n",
       "      <td>Zuecos Urban</td>\n",
       "      <td>99.949997</td>\n",
       "      <td>104.22</td>\n",
       "    </tr>\n",
       "    <tr>\n",
       "      <th>873</th>\n",
       "      <td>2024-04-30</td>\n",
       "      <td>adidas</td>\n",
       "      <td>Zuecos Urban</td>\n",
       "      <td>99.949997</td>\n",
       "      <td>210.68</td>\n",
       "    </tr>\n",
       "    <tr>\n",
       "      <th>874</th>\n",
       "      <td>2024-05-31</td>\n",
       "      <td>adidas</td>\n",
       "      <td>Zuecos Urban</td>\n",
       "      <td>199.899994</td>\n",
       "      <td>209.91</td>\n",
       "    </tr>\n",
       "    <tr>\n",
       "      <th>875</th>\n",
       "      <td>2024-06-30</td>\n",
       "      <td>adidas</td>\n",
       "      <td>Zuecos Urban</td>\n",
       "      <td>99.949997</td>\n",
       "      <td>210.50</td>\n",
       "    </tr>\n",
       "    <tr>\n",
       "      <th>876</th>\n",
       "      <td>2024-07-31</td>\n",
       "      <td>adidas</td>\n",
       "      <td>Zuecos Urban</td>\n",
       "      <td>99.949997</td>\n",
       "      <td>158.84</td>\n",
       "    </tr>\n",
       "  </tbody>\n",
       "</table>\n",
       "<p>877 rows × 5 columns</p>\n",
       "</div>"
      ],
      "text/plain": [
       "          date     brand              family  total_revenue  forecast_revenue\n",
       "0   2023-09-30  Columbia  Bañadores Natación      99.949997            106.59\n",
       "1   2023-10-31  Columbia  Bañadores Natación      99.949997            105.62\n",
       "2   2023-11-30  Columbia  Bañadores Natación      99.949997            106.57\n",
       "3   2023-12-31  Columbia  Bañadores Natación      99.949997            102.23\n",
       "4   2024-01-31  Columbia  Bañadores Natación      99.949997            101.35\n",
       "..         ...       ...                 ...            ...               ...\n",
       "872 2024-03-31    adidas        Zuecos Urban      99.949997            104.22\n",
       "873 2024-04-30    adidas        Zuecos Urban      99.949997            210.68\n",
       "874 2024-05-31    adidas        Zuecos Urban     199.899994            209.91\n",
       "875 2024-06-30    adidas        Zuecos Urban      99.949997            210.50\n",
       "876 2024-07-31    adidas        Zuecos Urban      99.949997            158.84\n",
       "\n",
       "[877 rows x 5 columns]"
      ]
     },
     "execution_count": 23,
     "metadata": {},
     "output_type": "execute_result"
    }
   ],
   "source": [
    "df_predictions"
   ]
  },
  {
   "cell_type": "code",
   "execution_count": null,
   "metadata": {},
   "outputs": [],
   "source": []
  }
 ],
 "metadata": {
  "kernelspec": {
   "display_name": ".venv",
   "language": "python",
   "name": "python3"
  },
  "language_info": {
   "codemirror_mode": {
    "name": "ipython",
    "version": 3
   },
   "file_extension": ".py",
   "mimetype": "text/x-python",
   "name": "python",
   "nbconvert_exporter": "python",
   "pygments_lexer": "ipython3",
   "version": "3.13.1"
  }
 },
 "nbformat": 4,
 "nbformat_minor": 2
}
