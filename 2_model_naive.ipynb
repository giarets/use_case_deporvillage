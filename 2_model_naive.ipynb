{
 "cells": [
  {
   "cell_type": "markdown",
   "metadata": {},
   "source": [
    "# Naive models\n",
    "\n",
    "In every DS project it's a good practice to have a baseline to compare more advanced models to.  \n",
    "It happens a lot in forecasting that these baseline models can be hard to beat.  \n",
    "Here we will implement:\n",
    "- A Lagged model which is just copying last observations from the time series.    \n",
    "- A Rolling mean model which is taking the average of the last observations.  \n",
    "\n",
    "The Lagged model seems to be better but probably because resampling monthly at the daily level implies having few observations for aech time series.  \n",
    "This becomes an issue when the forecasting horizon is large (like in our case) because many lagged features are missing.  \n",
    "\n",
    "__SUMMARY__\n",
    "\n",
    "1. Load data\n",
    "2. Preprocess data\n",
    "    - Set types to columns\n",
    "    - Filter based on time\n",
    "    - Aggregate data a the monthly frequency\n",
    "    - Fill in missing dates (so that we won't have issues while building lagged features)\n",
    "3. Feature generation\n",
    "    - Lagged features (>= 12 to avoid data leakage)\n",
    "    - Shifted rolling features\n",
    "4. Train/Test split\n",
    "5. Train & Predict with Naive Lag\n",
    "6. Train & Predict with Naive Rolling"
   ]
  },
  {
   "cell_type": "code",
   "execution_count": 1,
   "metadata": {},
   "outputs": [],
   "source": [
    "import pandas as pd\n",
    "import utils.utils_models as utils_models\n",
    "\n",
    "import utils.utils_preprocessing as utils_preprocessing\n",
    "import utils.utils_features as utils_features"
   ]
  },
  {
   "cell_type": "code",
   "execution_count": 2,
   "metadata": {},
   "outputs": [],
   "source": [
    "df_sales = pd.read_parquet(\"data/sales.parquet\")\n",
    "df_products = pd.read_parquet(\"data/products.parquet\")\n",
    "df = df_sales.merge(df_products, on=\"product_id\")"
   ]
  },
  {
   "cell_type": "code",
   "execution_count": 3,
   "metadata": {},
   "outputs": [],
   "source": [
    "df = utils_preprocessing.set_types(df)\n",
    "df = utils_preprocessing.filter_dates(df, date=\"2024-09-01\")\n",
    "\n",
    "df_monthly = utils_preprocessing.aggregate_data(\n",
    "    df, \n",
    "    frequency=\"ME\"\n",
    "    )\n",
    "df_monthly = utils_preprocessing.fill_in_missing_dates(\n",
    "    df_monthly, \n",
    "    group_col=[\"brand\", \"family\"], \n",
    "    date_col=\"date\", \n",
    "    freq=\"ME\"\n",
    "    )\n",
    "df_monthly = utils_features.features_lag(\n",
    "    df=df_monthly, \n",
    "    col=\"total_revenue\",\n",
    "    lags=[12, 13, 14],\n",
    "    group_column=['brand', 'family']\n",
    ")\n",
    "df_monthly = utils_features.features_rolling(\n",
    "    df=df_monthly, \n",
    "    col=\"total_revenue\",\n",
    "    window_sizes=[3, 5],\n",
    "    group_column=['brand', 'family']\n",
    ")\n",
    "\n",
    "cols_categorical = ['brand', 'family']\n",
    "for col in cols_categorical:\n",
    "    df_monthly[col] = df_monthly[col].astype(\"category\")\n",
    "df_monthly = df_monthly.rename(columns={\"total_revenue\": \"y\"}).set_index(\"date\")"
   ]
  },
  {
   "cell_type": "code",
   "execution_count": 4,
   "metadata": {},
   "outputs": [],
   "source": [
    "X_train, X_test, y_train, y_test = utils_preprocessing.train_test_split(df_monthly, forecasting_horizon=12, target_col=\"y\")"
   ]
  },
  {
   "cell_type": "code",
   "execution_count": 5,
   "metadata": {},
   "outputs": [
    {
     "name": "stdout",
     "output_type": "stream",
     "text": [
      "Train [2020-09-30 - 2022-08-31]\n",
      "Predict [2022-09-30 - 2023-08-31]\n",
      "Train [2020-09-30 - 2023-08-31]\n",
      "Predict [2023-09-30 - 2024-08-31]\n",
      "Average RMSE from cross-validation: 2138.3315\n"
     ]
    }
   ],
   "source": [
    "fc_model_lag = utils_models.NaiveLag(hyperparameters={'lag': 12})\n",
    "results_cv = fc_model_lag.cross_validate(df_monthly, n_splits=2)"
   ]
  },
  {
   "cell_type": "code",
   "execution_count": 12,
   "metadata": {},
   "outputs": [
    {
     "name": "stdout",
     "output_type": "stream",
     "text": [
      "Train [2020-09-30 - 2022-08-31]\n",
      "Predict [2022-09-30 - 2023-08-31]\n",
      "Train [2020-09-30 - 2023-08-31]\n",
      "Predict [2023-09-30 - 2024-08-31]\n",
      "Average RMSE from cross-validation: 2210.1395\n"
     ]
    }
   ],
   "source": [
    "fc_model_rolling = utils_models.NaiveRollingMean(hyperparameters={'window': 3})\n",
    "results_cv = fc_model_rolling.cross_validate(df_monthly, n_splits=2)"
   ]
  },
  {
   "cell_type": "code",
   "execution_count": 7,
   "metadata": {},
   "outputs": [],
   "source": [
    "y_preds = fc_model_lag.predict(X=X_test)\n",
    "df_preds = pd.DataFrame(\n",
    "    data={\n",
    "        \"brand\": X_test[\"brand\"],\n",
    "        \"family\": X_test[\"family\"],\n",
    "        \"y_pred\": y_preds,\n",
    "        \"y\": y_test.values\n",
    "    },\n",
    "    index=X_test.index,\n",
    ")"
   ]
  },
  {
   "cell_type": "code",
   "execution_count": 8,
   "metadata": {},
   "outputs": [
    {
     "data": {
      "text/plain": [
       "<Axes: xlabel='date'>"
      ]
     },
     "execution_count": 8,
     "metadata": {},
     "output_type": "execute_result"
    },
    {
     "data": {
      "image/png": "[encoded data removed]",
      "text/plain": [
       "<Figure size 640x480 with 1 Axes>"
      ]
     },
     "metadata": {},
     "output_type": "display_data"
    }
   ],
   "source": [
    "family = \"Calcetines Running\"\n",
    "brand = \"adidas\"\n",
    "df_preds[(df_preds[\"family\"] == family) & (df_preds[\"brand\"] == brand)][[\"y\", \"y_pred\"]].plot()"
   ]
  },
  {
   "cell_type": "code",
   "execution_count": null,
   "metadata": {},
   "outputs": [],
   "source": []
  }
 ],
 "metadata": {
  "kernelspec": {
   "display_name": ".venv",
   "language": "python",
   "name": "python3"
  },
  "language_info": {
   "codemirror_mode": {
    "name": "ipython",
    "version": 3
   },
   "file_extension": ".py",
   "mimetype": "text/x-python",
   "name": "python",
   "nbconvert_exporter": "python",
   "pygments_lexer": "ipython3",
   "version": "3.13.1"
  }
 },
 "nbformat": 4,
 "nbformat_minor": 2
}
