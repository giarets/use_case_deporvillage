{
 "cells": [
  {
   "cell_type": "markdown",
   "metadata": {},
   "source": [
    "1️⃣ Use Hierarchical Forecasting   \n",
    "  \n",
    "What It Is   \n",
    "\t•\tHierarchical forecasting aggregates data at higher levels (e.g., brand level or total sales) to compensate for sparsity at lower levels (e.g., brand + family).   \n",
    "\t•\tPredictions are made at the higher levels and disaggregated down to smaller groups (e.g., brand-family) using proportions.   \n",
    "  \n",
    "Steps to Implement   \n",
    "\t1.\tAggregate to Higher Levels:   \n",
    "\t•\tAggregate sparse brand-family data up to broader levels:   \n",
    "\t•\tBrand level: brand_total_sales  \n",
    "\t•\tFamily level: family_total_sales  \n",
    "\t•\tOverall total: global_total_sales  \n",
    "\t•\tUse the aggregated time series to train the model.  \n",
    "\t2.\tForecast at Higher Levels:   \n",
    "\t•\tPredict sales at the aggregated levels using richer historical data.  \n",
    "\t3.\tDisaggregate Forecasts:  \n",
    "\t•\tSplit the higher-level forecasts back down to the brand-family level using historical proportions. For example:\n",
    "$\\text{brand\\_family\\_forecast} = \\text{brand\\_forecast} \\times \\frac{\\text{brand\\_family\\_sales}}{\\text{brand\\_total\\_sales}}$  \n",
    "\t4.\tSmooth Proportions for Stability:  \n",
    "\t•\tUse smoothed historical proportions (e.g., rolling averages) to prevent overfitting to noisy historical proportions.  \n",
    "\n",
    "\n",
    "\n",
    "Steps in the Implementation  \n",
    "\t1.\tAggregate Sparse Data to Higher Levels (e.g., brand).    \n",
    "\t2.\tTrain a Forecasting Model at the Higher Level (e.g., using a simple statistical model or machine learning).    \n",
    "\t3.\tDisaggregate Forecasts:    \n",
    "\t•\tUse historical proportions to split higher-level forecasts back down to the brand + family level.  "
   ]
  },
  {
   "cell_type": "code",
   "execution_count": 1,
   "metadata": {},
   "outputs": [],
   "source": [
    "import pandas as pd\n",
    "import utils.utils_models as utils_models\n",
    "\n",
    "import utils.utils_preprocessing as utils_preprocessing\n",
    "import utils.utils_features as utils_features"
   ]
  },
  {
   "cell_type": "code",
   "execution_count": 2,
   "metadata": {},
   "outputs": [],
   "source": [
    "df_sales = pd.read_parquet(\"data/sales.parquet\")\n",
    "df_products = pd.read_parquet(\"data/products.parquet\")\n",
    "df = df_sales.merge(df_products, on=\"product_id\")"
   ]
  },
  {
   "cell_type": "code",
   "execution_count": 3,
   "metadata": {},
   "outputs": [],
   "source": [
    "df = utils_preprocessing.set_types(df)\n",
    "\n",
    "df_monthly = utils_preprocessing.aggregate_data(\n",
    "    df, \n",
    "    frequency=\"ME\"\n",
    "    )\n",
    "df_monthly = utils_preprocessing.fill_in_missing_dates(\n",
    "    df_monthly, \n",
    "    group_col=[\"brand\", \"family\"], \n",
    "    date_col=\"date\", \n",
    "    freq=\"ME\"\n",
    "    )\n",
    "df_monthly = utils_features.features_time_related(\n",
    "    df_monthly, \n",
    "    frequency='ME'\n",
    "    )\n",
    "#df_monthly = df_monthly.set_index('date')"
   ]
  },
  {
   "cell_type": "code",
   "execution_count": 4,
   "metadata": {},
   "outputs": [],
   "source": [
    "# Define the last 12 months for the test set (forecasting target)\n",
    "forecast_horizon = 12\n",
    "\n",
    "# Use the last month of your dataset as the reference to split\n",
    "train_end_date = df_monthly['date'].max() - pd.DateOffset(months=forecast_horizon)\n",
    "\n",
    "# Split into training and test sets\n",
    "train_data = df_monthly[df_monthly['date'] <= train_end_date]\n",
    "test_data = df_monthly[df_monthly['date'] > train_end_date]\n",
    "X_train, X_test, y_train, y_test = utils_preprocessing.train_test_split(df_monthly, forecasting_horizon=12, target_col=\"total_revenue\")"
   ]
  },
  {
   "cell_type": "code",
   "execution_count": 5,
   "metadata": {},
   "outputs": [],
   "source": [
    "# Initialize a list to store rolling proportions for each month in training data\n",
    "historical_proportions_train = []\n",
    "\n",
    "for current_date in train_data['date'].unique():\n",
    "    # Select training data up to the current month\n",
    "    current_data_train = train_data[train_data['date'] <= current_date]\n",
    "    \n",
    "    # Aggregate revenue by brand and family for the current month\n",
    "    current_revenue_train = current_data_train.groupby(['date', 'brand', 'family'])['total_revenue'].sum().reset_index()\n",
    "    \n",
    "    # Aggregate total revenue up to the current date (monthly)\n",
    "    total_revenue_up_to_date_train = current_data_train.groupby(['date'])['total_revenue'].sum().reset_index()\n",
    "    \n",
    "    # Merge to calculate proportions (revenue share of each brand/family per month)\n",
    "    current_revenue_train = current_revenue_train.merge(total_revenue_up_to_date_train, on='date', suffixes=('', '_agg'))\n",
    "    \n",
    "    # Calculate proportions: revenue of brand/family over total revenue for that month\n",
    "    current_revenue_train['proportion'] = current_revenue_train['total_revenue'] / current_revenue_train['total_revenue_agg']\n",
    "    \n",
    "    # Store the proportions data\n",
    "    historical_proportions_train.append(current_revenue_train[['date', 'brand', 'family', 'proportion']])\n",
    "\n",
    "# Combine all the monthly proportions into a single DataFrame\n",
    "historical_proportions_train_df = pd.concat(historical_proportions_train)\n",
    "historical_proportions_train_df['month'] = historical_proportions_train_df['date'].dt.month\n",
    "historical_proportions_train_df = historical_proportions_train_df.drop(columns='date')\n",
    "historical_proportions_train_df = historical_proportions_train_df.groupby(['brand', 'family', 'month'], as_index=False).agg({'proportion': 'mean'})"
   ]
  },
  {
   "cell_type": "code",
   "execution_count": 6,
   "metadata": {},
   "outputs": [
    {
     "name": "stderr",
     "output_type": "stream",
     "text": [
      "/Users/matteogiaretti/Python/use_case_deporvillage/.venv/lib/python3.13/site-packages/statsmodels/tsa/base/tsa_model.py:473: ValueWarning: No frequency information was provided, so inferred frequency ME will be used.\n",
      "  self._init_dates(dates, freq)\n",
      "/Users/matteogiaretti/Python/use_case_deporvillage/.venv/lib/python3.13/site-packages/statsmodels/tsa/base/tsa_model.py:473: ValueWarning: No frequency information was provided, so inferred frequency ME will be used.\n",
      "  self._init_dates(dates, freq)\n",
      "/Users/matteogiaretti/Python/use_case_deporvillage/.venv/lib/python3.13/site-packages/statsmodels/tsa/statespace/sarimax.py:866: UserWarning: Too few observations to estimate starting parameters for seasonal ARMA. All parameters except for variances will be set to zeros.\n",
      "  warn('Too few observations to estimate starting parameters%s.'\n"
     ]
    }
   ],
   "source": [
    "from statsmodels.tsa.statespace.sarimax import SARIMAX\n",
    "\n",
    "# Forecasting the total revenue using SARIMA model\n",
    "sarima_model = SARIMAX(train_data.groupby('date')['total_revenue'].sum(), order=(1, 1, 1), seasonal_order=(1, 1, 1, 12))\n",
    "sarima_result = sarima_model.fit()\n",
    "\n",
    "# Forecast total revenue for the last 12 months\n",
    "forecast_total_revenue = sarima_result.get_forecast(steps=forecast_horizon).predicted_mean\n",
    "forecast_total_revenue = forecast_total_revenue.reset_index()\n",
    "forecast_total_revenue.columns = ['date', 'forecast_total_revenue']\n",
    "forecast_total_revenue['month'] = forecast_total_revenue['date'].dt.month\n",
    "#forecast_total_revenue = forecast_total_revenue[['month', 'forecast_total_revenue']]"
   ]
  },
  {
   "cell_type": "code",
   "execution_count": 7,
   "metadata": {},
   "outputs": [],
   "source": [
    "forecast_allocation = X_test.reset_index()[['date', 'brand', 'family']].merge(forecast_total_revenue, on='date', how='left')"
   ]
  },
  {
   "cell_type": "code",
   "execution_count": 8,
   "metadata": {},
   "outputs": [],
   "source": [
    "forecast_allocation = forecast_allocation.merge(historical_proportions_train_df, on=['brand', 'family', 'month'], how='left')"
   ]
  },
  {
   "cell_type": "code",
   "execution_count": 9,
   "metadata": {},
   "outputs": [],
   "source": [
    "#forecast_allocation = pd.merge(historical_proportions_train_df, forecast_total_revenue, on='month', how='left')\n",
    "\n",
    "# Calculate forecasted revenue for each brand + family\n",
    "forecast_allocation['forecast_revenue'] = (\n",
    "    forecast_allocation['forecast_total_revenue'] * forecast_allocation['proportion']\n",
    ")\n",
    "\n",
    "# Final output: forecasted revenue at brand + family level\n",
    "forecast_allocation = forecast_allocation[['date', 'brand', 'family', 'forecast_revenue']]"
   ]
  },
  {
   "cell_type": "code",
   "execution_count": 10,
   "metadata": {},
   "outputs": [
    {
     "data": {
      "application/vnd.microsoft.datawrangler.viewer.v0+json": {
       "columns": [
        {
         "name": "index",
         "rawType": "int64",
         "type": "integer"
        },
        {
         "name": "date",
         "rawType": "datetime64[ns]",
         "type": "datetime"
        },
        {
         "name": "brand",
         "rawType": "object",
         "type": "string"
        },
        {
         "name": "family",
         "rawType": "object",
         "type": "string"
        },
        {
         "name": "forecast_revenue",
         "rawType": "float64",
         "type": "float"
        }
       ],
       "conversionMethod": "pd.DataFrame",
       "ref": "b09f9afb-84a0-4ecf-8150-28e472028d33",
       "rows": [
        [
         "0",
         "2023-10-31 00:00:00",
         "adidas",
         "Headwear Urban",
         "60.981144614435784"
        ],
        [
         "1",
         "2023-10-31 00:00:00",
         "adidas",
         "Zapatillas Running",
         "19622.427603949553"
        ],
        [
         "2",
         "2023-10-31 00:00:00",
         "adidas",
         "Polos Urban",
         "143.25794335465807"
        ],
        [
         "3",
         "2023-10-31 00:00:00",
         "Columbia",
         "Pantalones Urban",
         null
        ],
        [
         "4",
         "2023-10-31 00:00:00",
         "adidas",
         "Mallas y pantalones Training",
         "1248.5559613783653"
        ],
        [
         "5",
         "2023-10-31 00:00:00",
         "Columbia",
         "Zapatillas Trail Running",
         "132.19107472655372"
        ],
        [
         "6",
         "2023-10-31 00:00:00",
         "Columbia",
         "Forros polares Outdoor",
         "1356.2441765896192"
        ],
        [
         "7",
         "2023-10-31 00:00:00",
         "adidas",
         "Zapatillas Ciclismo",
         "154.63359289763025"
        ],
        [
         "8",
         "2023-10-31 00:00:00",
         "Columbia",
         "Chaquetas Outdoor",
         "6588.13889033669"
        ],
        [
         "9",
         "2023-10-31 00:00:00",
         "adidas",
         "Camisetas Running",
         "1144.1762605545393"
        ],
        [
         "10",
         "2023-10-31 00:00:00",
         "Columbia",
         "Pantalones Outdoor",
         "1040.2164290172109"
        ],
        [
         "11",
         "2023-10-31 00:00:00",
         "Columbia",
         "Botas de montaña",
         "807.8417507613515"
        ],
        [
         "12",
         "2023-10-31 00:00:00",
         "adidas",
         "Pantalones Outdoor",
         "80.36051666552783"
        ],
        [
         "13",
         "2023-10-31 00:00:00",
         "Columbia",
         "Camisetas Outdoor",
         "832.6761688550607"
        ],
        [
         "14",
         "2023-10-31 00:00:00",
         "adidas",
         "Chalecos Running",
         "86.56096660146913"
        ],
        [
         "15",
         "2023-10-31 00:00:00",
         "adidas",
         "Sudaderas Outdoor",
         "50.49389548106011"
        ],
        [
         "16",
         "2023-10-31 00:00:00",
         "adidas",
         "Camisetas Urban",
         "623.8482196223765"
        ],
        [
         "17",
         "2023-10-31 00:00:00",
         "adidas",
         "Chalecos Outdoor",
         "118.39913302996001"
        ],
        [
         "18",
         "2023-10-31 00:00:00",
         "adidas",
         "Sandalias Urban",
         "22.09051692065479"
        ],
        [
         "19",
         "2023-10-31 00:00:00",
         "adidas",
         "Mallas y pantalones Running",
         "1349.5710671429292"
        ],
        [
         "20",
         "2023-10-31 00:00:00",
         "Columbia",
         "Chalecos Outdoor",
         "821.4447471915088"
        ],
        [
         "21",
         "2023-10-31 00:00:00",
         "adidas",
         "Camisetas Training",
         "671.8742027760237"
        ],
        [
         "22",
         "2023-10-31 00:00:00",
         "adidas",
         "Zapatillas Training",
         "578.8962093875126"
        ],
        [
         "23",
         "2023-10-31 00:00:00",
         "adidas",
         "Camisetas Outdoor",
         "160.62000024023598"
        ],
        [
         "24",
         "2023-10-31 00:00:00",
         "adidas",
         "Botas de montaña",
         "1494.5217822780617"
        ],
        [
         "25",
         "2023-10-31 00:00:00",
         "adidas",
         "Botas Urban",
         "72.0620027541546"
        ],
        [
         "26",
         "2023-10-31 00:00:00",
         "adidas",
         "Chanclas Urban",
         "175.14312639595985"
        ],
        [
         "27",
         "2023-10-31 00:00:00",
         "adidas",
         "Sudaderas Urban",
         "2118.1591271293087"
        ],
        [
         "28",
         "2023-10-31 00:00:00",
         "adidas",
         "Chaquetas Outdoor",
         "589.9538300185307"
        ],
        [
         "29",
         "2023-10-31 00:00:00",
         "adidas",
         "Headwear Outdoor",
         "180.15956701654645"
        ],
        [
         "30",
         "2023-10-31 00:00:00",
         "adidas",
         "Pantalones Urban",
         "1028.9780585823678"
        ],
        [
         "31",
         "2023-10-31 00:00:00",
         "adidas",
         "Bañadores Natación",
         "809.539294712698"
        ],
        [
         "32",
         "2023-10-31 00:00:00",
         "Columbia",
         "Pantuflas Homewear",
         null
        ],
        [
         "33",
         "2023-10-31 00:00:00",
         "adidas",
         "Sudaderas Training",
         "184.90214429800417"
        ],
        [
         "34",
         "2023-10-31 00:00:00",
         "Columbia",
         "Zapatillas de montaña",
         "275.6671992809782"
        ],
        [
         "35",
         "2023-10-31 00:00:00",
         "Columbia",
         "Zapatillas Urban",
         "118.56653710539318"
        ],
        [
         "36",
         "2023-10-31 00:00:00",
         "adidas",
         "Bañadores Urban",
         null
        ],
        [
         "37",
         "2023-10-31 00:00:00",
         "adidas",
         "Sudaderas Running",
         "358.571109302071"
        ],
        [
         "38",
         "2023-10-31 00:00:00",
         "adidas",
         "Toallas y albornoces Natación",
         "357.8699782787759"
        ],
        [
         "39",
         "2023-10-31 00:00:00",
         "adidas",
         "Zuecos Urban",
         "359.8686492777885"
        ],
        [
         "40",
         "2023-10-31 00:00:00",
         "adidas",
         "Sandalias",
         "91.48021639300892"
        ],
        [
         "41",
         "2023-10-31 00:00:00",
         "adidas",
         "Tops y Sujetadores deportivos Training",
         "158.60778935598657"
        ],
        [
         "42",
         "2023-10-31 00:00:00",
         "Columbia",
         "Camisetas Urban",
         "43.280483300734566"
        ],
        [
         "43",
         "2023-10-31 00:00:00",
         "Columbia",
         "Guantes Outdoor",
         "160.75946616756548"
        ],
        [
         "44",
         "2023-10-31 00:00:00",
         "adidas",
         "Chaquetas Running",
         "1446.118930469673"
        ],
        [
         "45",
         "2023-10-31 00:00:00",
         "adidas",
         "Outlet Zapatillas Urban",
         "1432.7218629204904"
        ],
        [
         "46",
         "2023-10-31 00:00:00",
         "adidas",
         "Gafas Ciclismo",
         "93.17099551112777"
        ],
        [
         "47",
         "2023-10-31 00:00:00",
         "Columbia",
         "Guantes Running",
         "203.31168758062478"
        ],
        [
         "48",
         "2023-10-31 00:00:00",
         "adidas",
         "Outlet Equipación Running",
         null
        ],
        [
         "49",
         "2023-10-31 00:00:00",
         "Columbia",
         "Monos Esquí",
         "149.1109649448142"
        ]
       ],
       "shape": {
        "columns": 4,
        "rows": 824
       }
      },
      "text/html": [
       "<div>\n",
       "<style scoped>\n",
       "    .dataframe tbody tr th:only-of-type {\n",
       "        vertical-align: middle;\n",
       "    }\n",
       "\n",
       "    .dataframe tbody tr th {\n",
       "        vertical-align: top;\n",
       "    }\n",
       "\n",
       "    .dataframe thead th {\n",
       "        text-align: right;\n",
       "    }\n",
       "</style>\n",
       "<table border=\"1\" class=\"dataframe\">\n",
       "  <thead>\n",
       "    <tr style=\"text-align: right;\">\n",
       "      <th></th>\n",
       "      <th>date</th>\n",
       "      <th>brand</th>\n",
       "      <th>family</th>\n",
       "      <th>forecast_revenue</th>\n",
       "    </tr>\n",
       "  </thead>\n",
       "  <tbody>\n",
       "    <tr>\n",
       "      <th>0</th>\n",
       "      <td>2023-10-31</td>\n",
       "      <td>adidas</td>\n",
       "      <td>Headwear Urban</td>\n",
       "      <td>60.981145</td>\n",
       "    </tr>\n",
       "    <tr>\n",
       "      <th>1</th>\n",
       "      <td>2023-10-31</td>\n",
       "      <td>adidas</td>\n",
       "      <td>Zapatillas Running</td>\n",
       "      <td>19622.427604</td>\n",
       "    </tr>\n",
       "    <tr>\n",
       "      <th>2</th>\n",
       "      <td>2023-10-31</td>\n",
       "      <td>adidas</td>\n",
       "      <td>Polos Urban</td>\n",
       "      <td>143.257943</td>\n",
       "    </tr>\n",
       "    <tr>\n",
       "      <th>3</th>\n",
       "      <td>2023-10-31</td>\n",
       "      <td>Columbia</td>\n",
       "      <td>Pantalones Urban</td>\n",
       "      <td>NaN</td>\n",
       "    </tr>\n",
       "    <tr>\n",
       "      <th>4</th>\n",
       "      <td>2023-10-31</td>\n",
       "      <td>adidas</td>\n",
       "      <td>Mallas y pantalones Training</td>\n",
       "      <td>1248.555961</td>\n",
       "    </tr>\n",
       "    <tr>\n",
       "      <th>...</th>\n",
       "      <td>...</td>\n",
       "      <td>...</td>\n",
       "      <td>...</td>\n",
       "      <td>...</td>\n",
       "    </tr>\n",
       "    <tr>\n",
       "      <th>819</th>\n",
       "      <td>2024-09-30</td>\n",
       "      <td>adidas</td>\n",
       "      <td>Pantalones Urban</td>\n",
       "      <td>1429.126322</td>\n",
       "    </tr>\n",
       "    <tr>\n",
       "      <th>820</th>\n",
       "      <td>2024-09-30</td>\n",
       "      <td>Columbia</td>\n",
       "      <td>Headwear Outdoor</td>\n",
       "      <td>362.273874</td>\n",
       "    </tr>\n",
       "    <tr>\n",
       "      <th>821</th>\n",
       "      <td>2024-09-30</td>\n",
       "      <td>adidas</td>\n",
       "      <td>Pantalones Esquí</td>\n",
       "      <td>347.503691</td>\n",
       "    </tr>\n",
       "    <tr>\n",
       "      <th>822</th>\n",
       "      <td>2024-09-30</td>\n",
       "      <td>adidas</td>\n",
       "      <td>Tops y Sujetadores deportivos Training</td>\n",
       "      <td>551.900316</td>\n",
       "    </tr>\n",
       "    <tr>\n",
       "      <th>823</th>\n",
       "      <td>2024-09-30</td>\n",
       "      <td>adidas</td>\n",
       "      <td>Mallas y pantalones Training</td>\n",
       "      <td>654.023277</td>\n",
       "    </tr>\n",
       "  </tbody>\n",
       "</table>\n",
       "<p>824 rows × 4 columns</p>\n",
       "</div>"
      ],
      "text/plain": [
       "          date     brand                                  family  \\\n",
       "0   2023-10-31    adidas                          Headwear Urban   \n",
       "1   2023-10-31    adidas                      Zapatillas Running   \n",
       "2   2023-10-31    adidas                             Polos Urban   \n",
       "3   2023-10-31  Columbia                        Pantalones Urban   \n",
       "4   2023-10-31    adidas            Mallas y pantalones Training   \n",
       "..         ...       ...                                     ...   \n",
       "819 2024-09-30    adidas                        Pantalones Urban   \n",
       "820 2024-09-30  Columbia                        Headwear Outdoor   \n",
       "821 2024-09-30    adidas                        Pantalones Esquí   \n",
       "822 2024-09-30    adidas  Tops y Sujetadores deportivos Training   \n",
       "823 2024-09-30    adidas            Mallas y pantalones Training   \n",
       "\n",
       "     forecast_revenue  \n",
       "0           60.981145  \n",
       "1        19622.427604  \n",
       "2          143.257943  \n",
       "3                 NaN  \n",
       "4         1248.555961  \n",
       "..                ...  \n",
       "819       1429.126322  \n",
       "820        362.273874  \n",
       "821        347.503691  \n",
       "822        551.900316  \n",
       "823        654.023277  \n",
       "\n",
       "[824 rows x 4 columns]"
      ]
     },
     "execution_count": 10,
     "metadata": {},
     "output_type": "execute_result"
    }
   ],
   "source": [
    "forecast_allocation"
   ]
  },
  {
   "cell_type": "code",
   "execution_count": 12,
   "metadata": {},
   "outputs": [
    {
     "ename": "TypeError",
     "evalue": "got an unexpected keyword argument 'squared'",
     "output_type": "error",
     "traceback": [
      "\u001b[31m---------------------------------------------------------------------------\u001b[39m",
      "\u001b[31mTypeError\u001b[39m                                 Traceback (most recent call last)",
      "\u001b[36mCell\u001b[39m\u001b[36m \u001b[39m\u001b[32mIn[12]\u001b[39m\u001b[32m, line 10\u001b[39m\n\u001b[32m      8\u001b[39m \u001b[38;5;66;03m# Evaluate using MAE and RMSE\u001b[39;00m\n\u001b[32m      9\u001b[39m mae = mean_absolute_error(actual_vs_forecast[\u001b[33m'\u001b[39m\u001b[33mtotal_revenue\u001b[39m\u001b[33m'\u001b[39m], actual_vs_forecast[\u001b[33m'\u001b[39m\u001b[33mforecast_revenue\u001b[39m\u001b[33m'\u001b[39m])\n\u001b[32m---> \u001b[39m\u001b[32m10\u001b[39m rmse = \u001b[43mmean_squared_error\u001b[49m\u001b[43m(\u001b[49m\u001b[43mactual_vs_forecast\u001b[49m\u001b[43m[\u001b[49m\u001b[33;43m'\u001b[39;49m\u001b[33;43mtotal_revenue\u001b[39;49m\u001b[33;43m'\u001b[39;49m\u001b[43m]\u001b[49m\u001b[43m,\u001b[49m\u001b[43m \u001b[49m\u001b[43mactual_vs_forecast\u001b[49m\u001b[43m[\u001b[49m\u001b[33;43m'\u001b[39;49m\u001b[33;43mforecast_revenue\u001b[39;49m\u001b[33;43m'\u001b[39;49m\u001b[43m]\u001b[49m\u001b[43m,\u001b[49m\u001b[43m \u001b[49m\u001b[43msquared\u001b[49m\u001b[43m=\u001b[49m\u001b[38;5;28;43;01mFalse\u001b[39;49;00m\u001b[43m)\u001b[49m\n\u001b[32m     12\u001b[39m \u001b[38;5;28mprint\u001b[39m(\u001b[33mf\u001b[39m\u001b[33m'\u001b[39m\u001b[33mMAE: \u001b[39m\u001b[38;5;132;01m{\u001b[39;00mmae\u001b[38;5;132;01m}\u001b[39;00m\u001b[33m'\u001b[39m)\n\u001b[32m     13\u001b[39m \u001b[38;5;28mprint\u001b[39m(\u001b[33mf\u001b[39m\u001b[33m'\u001b[39m\u001b[33mRMSE: \u001b[39m\u001b[38;5;132;01m{\u001b[39;00mrmse\u001b[38;5;132;01m}\u001b[39;00m\u001b[33m'\u001b[39m)\n",
      "\u001b[36mFile \u001b[39m\u001b[32m~/Python/use_case_deporvillage/.venv/lib/python3.13/site-packages/sklearn/utils/_param_validation.py:194\u001b[39m, in \u001b[36mvalidate_params.<locals>.decorator.<locals>.wrapper\u001b[39m\u001b[34m(*args, **kwargs)\u001b[39m\n\u001b[32m    191\u001b[39m func_sig = signature(func)\n\u001b[32m    193\u001b[39m \u001b[38;5;66;03m# Map *args/**kwargs to the function signature\u001b[39;00m\n\u001b[32m--> \u001b[39m\u001b[32m194\u001b[39m params = \u001b[43mfunc_sig\u001b[49m\u001b[43m.\u001b[49m\u001b[43mbind\u001b[49m\u001b[43m(\u001b[49m\u001b[43m*\u001b[49m\u001b[43margs\u001b[49m\u001b[43m,\u001b[49m\u001b[43m \u001b[49m\u001b[43m*\u001b[49m\u001b[43m*\u001b[49m\u001b[43mkwargs\u001b[49m\u001b[43m)\u001b[49m\n\u001b[32m    195\u001b[39m params.apply_defaults()\n\u001b[32m    197\u001b[39m \u001b[38;5;66;03m# ignore self/cls and positional/keyword markers\u001b[39;00m\n",
      "\u001b[36mFile \u001b[39m\u001b[32m/opt/homebrew/Cellar/python@3.13/3.13.1/Frameworks/Python.framework/Versions/3.13/lib/python3.13/inspect.py:3264\u001b[39m, in \u001b[36mSignature.bind\u001b[39m\u001b[34m(self, *args, **kwargs)\u001b[39m\n\u001b[32m   3259\u001b[39m \u001b[38;5;28;01mdef\u001b[39;00m\u001b[38;5;250m \u001b[39m\u001b[34mbind\u001b[39m(\u001b[38;5;28mself\u001b[39m, /, *args, **kwargs):\n\u001b[32m   3260\u001b[39m \u001b[38;5;250m    \u001b[39m\u001b[33;03m\"\"\"Get a BoundArguments object, that maps the passed `args`\u001b[39;00m\n\u001b[32m   3261\u001b[39m \u001b[33;03m    and `kwargs` to the function's signature.  Raises `TypeError`\u001b[39;00m\n\u001b[32m   3262\u001b[39m \u001b[33;03m    if the passed arguments can not be bound.\u001b[39;00m\n\u001b[32m   3263\u001b[39m \u001b[33;03m    \"\"\"\u001b[39;00m\n\u001b[32m-> \u001b[39m\u001b[32m3264\u001b[39m     \u001b[38;5;28;01mreturn\u001b[39;00m \u001b[38;5;28;43mself\u001b[39;49m\u001b[43m.\u001b[49m\u001b[43m_bind\u001b[49m\u001b[43m(\u001b[49m\u001b[43margs\u001b[49m\u001b[43m,\u001b[49m\u001b[43m \u001b[49m\u001b[43mkwargs\u001b[49m\u001b[43m)\u001b[49m\n",
      "\u001b[36mFile \u001b[39m\u001b[32m/opt/homebrew/Cellar/python@3.13/3.13.1/Frameworks/Python.framework/Versions/3.13/lib/python3.13/inspect.py:3253\u001b[39m, in \u001b[36mSignature._bind\u001b[39m\u001b[34m(self, args, kwargs, partial)\u001b[39m\n\u001b[32m   3243\u001b[39m         \u001b[38;5;28;01mraise\u001b[39;00m \u001b[38;5;167;01mTypeError\u001b[39;00m(\n\u001b[32m   3244\u001b[39m             \u001b[33m'\u001b[39m\u001b[33mgot some positional-only arguments passed as \u001b[39m\u001b[33m'\u001b[39m\n\u001b[32m   3245\u001b[39m             \u001b[33m'\u001b[39m\u001b[33mkeyword arguments: \u001b[39m\u001b[38;5;132;01m{arg!r}\u001b[39;00m\u001b[33m'\u001b[39m.format(\n\u001b[32m   (...)\u001b[39m\u001b[32m   3250\u001b[39m             ),\n\u001b[32m   3251\u001b[39m         )\n\u001b[32m   3252\u001b[39m     \u001b[38;5;28;01melse\u001b[39;00m:\n\u001b[32m-> \u001b[39m\u001b[32m3253\u001b[39m         \u001b[38;5;28;01mraise\u001b[39;00m \u001b[38;5;167;01mTypeError\u001b[39;00m(\n\u001b[32m   3254\u001b[39m             \u001b[33m'\u001b[39m\u001b[33mgot an unexpected keyword argument \u001b[39m\u001b[38;5;132;01m{arg!r}\u001b[39;00m\u001b[33m'\u001b[39m.format(\n\u001b[32m   3255\u001b[39m                 arg=\u001b[38;5;28mnext\u001b[39m(\u001b[38;5;28miter\u001b[39m(kwargs))))\n\u001b[32m   3257\u001b[39m \u001b[38;5;28;01mreturn\u001b[39;00m \u001b[38;5;28mself\u001b[39m._bound_arguments_cls(\u001b[38;5;28mself\u001b[39m, arguments)\n",
      "\u001b[31mTypeError\u001b[39m: got an unexpected keyword argument 'squared'"
     ]
    }
   ],
   "source": [
    "from sklearn.metrics import mean_absolute_error, mean_squared_error\n",
    "forecast_allocation = forecast_allocation.fillna(0)\n",
    "\n",
    "# Assuming 'forecast_allocation' contains the forecasted revenues for the test period\n",
    "# Merge forecasted values with actual values in the test data\n",
    "actual_vs_forecast = pd.merge(test_data[['date', 'brand', 'family', 'total_revenue']], forecast_allocation, on=['date', 'brand', 'family'], how='left')\n",
    "\n",
    "# Evaluate using MAE and RMSE\n",
    "mae = mean_absolute_error(actual_vs_forecast['total_revenue'], actual_vs_forecast['forecast_revenue'])\n",
    "rmse = mean_squared_error(actual_vs_forecast['total_revenue'], actual_vs_forecast['forecast_revenue'], squared=False)\n",
    "\n",
    "print(f'MAE: {mae}')\n",
    "print(f'RMSE: {rmse}')"
   ]
  },
  {
   "cell_type": "code",
   "execution_count": 13,
   "metadata": {},
   "outputs": [
    {
     "data": {
      "application/vnd.microsoft.datawrangler.viewer.v0+json": {
       "columns": [
        {
         "name": "index",
         "rawType": "int64",
         "type": "integer"
        },
        {
         "name": "date",
         "rawType": "datetime64[ns]",
         "type": "datetime"
        },
        {
         "name": "brand",
         "rawType": "object",
         "type": "string"
        },
        {
         "name": "family",
         "rawType": "object",
         "type": "string"
        },
        {
         "name": "total_revenue",
         "rawType": "float32",
         "type": "float"
        },
        {
         "name": "forecast_revenue",
         "rawType": "float64",
         "type": "float"
        }
       ],
       "conversionMethod": "pd.DataFrame",
       "ref": "4660e9dd-9c8d-47f4-ada4-66852a129958",
       "rows": [
        [
         "0",
         "2023-10-31 00:00:00",
         "Columbia",
         "Bañadores Natación",
         "99.95",
         "110.39734698089853"
        ],
        [
         "1",
         "2023-11-30 00:00:00",
         "Columbia",
         "Bañadores Natación",
         "99.95",
         "90.42856537973023"
        ],
        [
         "2",
         "2023-12-31 00:00:00",
         "Columbia",
         "Bañadores Natación",
         "99.95",
         "91.26749190108531"
        ],
        [
         "3",
         "2024-01-31 00:00:00",
         "Columbia",
         "Bañadores Natación",
         "99.95",
         "99.36850305389235"
        ],
        [
         "4",
         "2024-02-29 00:00:00",
         "Columbia",
         "Bañadores Natación",
         "99.95",
         "114.27036243144202"
        ],
        [
         "5",
         "2024-03-31 00:00:00",
         "Columbia",
         "Bañadores Natación",
         "99.95",
         "115.96392296357317"
        ],
        [
         "6",
         "2024-04-30 00:00:00",
         "Columbia",
         "Bañadores Natación",
         "99.95",
         "115.79558474263142"
        ],
        [
         "7",
         "2024-05-31 00:00:00",
         "Columbia",
         "Bañadores Natación",
         "99.95",
         "114.80784570744989"
        ],
        [
         "8",
         "2024-06-30 00:00:00",
         "Columbia",
         "Bañadores Natación",
         "99.95",
         "130.9814321478789"
        ],
        [
         "9",
         "2024-07-31 00:00:00",
         "Columbia",
         "Bañadores Natación",
         "180.0",
         "140.96721280605882"
        ],
        [
         "10",
         "2023-12-31 00:00:00",
         "Columbia",
         "Botas Urban",
         "260.0",
         "0.0"
        ],
        [
         "11",
         "2024-01-31 00:00:00",
         "Columbia",
         "Botas Urban",
         "260.0",
         "0.0"
        ],
        [
         "12",
         "2023-10-31 00:00:00",
         "Columbia",
         "Botas de montaña",
         "2628.95",
         "807.8417507613515"
        ],
        [
         "13",
         "2023-11-30 00:00:00",
         "Columbia",
         "Botas de montaña",
         "5798.6396",
         "1654.739260248425"
        ],
        [
         "14",
         "2023-12-31 00:00:00",
         "Columbia",
         "Botas de montaña",
         "8135.2905",
         "2172.095573643404"
        ],
        [
         "15",
         "2024-01-31 00:00:00",
         "Columbia",
         "Botas de montaña",
         "9757.591",
         "3236.2705240571036"
        ],
        [
         "16",
         "2024-02-29 00:00:00",
         "Columbia",
         "Botas de montaña",
         "6300.74",
         "1942.72899309758"
        ],
        [
         "17",
         "2024-03-31 00:00:00",
         "Columbia",
         "Botas de montaña",
         "6068.95",
         "1841.451299691823"
        ],
        [
         "18",
         "2024-04-30 00:00:00",
         "Columbia",
         "Botas de montaña",
         "4206.35",
         "1557.520496936212"
        ],
        [
         "19",
         "2024-05-31 00:00:00",
         "Columbia",
         "Botas de montaña",
         "4197.65",
         "933.9735329310178"
        ],
        [
         "20",
         "2024-06-30 00:00:00",
         "Columbia",
         "Botas de montaña",
         "3574.6",
         "544.0491430773556"
        ],
        [
         "21",
         "2024-07-31 00:00:00",
         "Columbia",
         "Botas de montaña",
         "2019.8999",
         "1064.8184466604505"
        ],
        [
         "22",
         "2024-08-31 00:00:00",
         "Columbia",
         "Botas de montaña",
         "1653.7999",
         "611.635595672987"
        ],
        [
         "23",
         "2024-09-30 00:00:00",
         "Columbia",
         "Botas de montaña",
         "80.0",
         "1402.5075879275012"
        ],
        [
         "24",
         "2023-10-31 00:00:00",
         "Columbia",
         "Calzado Après-Ski",
         "300.0",
         "144.2682742628548"
        ],
        [
         "25",
         "2023-11-30 00:00:00",
         "Columbia",
         "Calzado Après-Ski",
         "349.95",
         "131.66645118478218"
        ],
        [
         "26",
         "2023-12-31 00:00:00",
         "Columbia",
         "Calzado Après-Ski",
         "519.85",
         "292.81399962626904"
        ],
        [
         "27",
         "2024-01-31 00:00:00",
         "Columbia",
         "Calzado Après-Ski",
         "339.95",
         "102.61330026537638"
        ],
        [
         "28",
         "2023-10-31 00:00:00",
         "Columbia",
         "Camisetas Outdoor",
         "563.0",
         "832.6761688550607"
        ],
        [
         "29",
         "2023-11-30 00:00:00",
         "Columbia",
         "Camisetas Outdoor",
         "644.9",
         "1390.1195774528917"
        ],
        [
         "30",
         "2023-12-31 00:00:00",
         "Columbia",
         "Camisetas Outdoor",
         "966.94",
         "1450.834588292823"
        ],
        [
         "31",
         "2024-01-31 00:00:00",
         "Columbia",
         "Camisetas Outdoor",
         "1316.99",
         "1112.883276894119"
        ],
        [
         "32",
         "2024-02-29 00:00:00",
         "Columbia",
         "Camisetas Outdoor",
         "1374.94",
         "1161.8221353051565"
        ],
        [
         "33",
         "2024-03-31 00:00:00",
         "Columbia",
         "Camisetas Outdoor",
         "1334.94",
         "1949.1646816557013"
        ],
        [
         "34",
         "2024-04-30 00:00:00",
         "Columbia",
         "Camisetas Outdoor",
         "1930.95",
         "2008.9361399891434"
        ],
        [
         "35",
         "2024-05-31 00:00:00",
         "Columbia",
         "Camisetas Outdoor",
         "2666.79",
         "1317.2930760609072"
        ],
        [
         "36",
         "2024-06-30 00:00:00",
         "Columbia",
         "Camisetas Outdoor",
         "2782.75",
         "1982.0096179119766"
        ],
        [
         "37",
         "2024-07-31 00:00:00",
         "Columbia",
         "Camisetas Outdoor",
         "2576.95",
         "1279.839980958633"
        ],
        [
         "38",
         "2024-08-31 00:00:00",
         "Columbia",
         "Camisetas Outdoor",
         "1049.9",
         "1977.8092012687578"
        ],
        [
         "39",
         "2024-09-30 00:00:00",
         "Columbia",
         "Camisetas Outdoor",
         "40.0",
         "2374.270500651126"
        ],
        [
         "40",
         "2023-10-31 00:00:00",
         "Columbia",
         "Camisetas Urban",
         "140.0",
         "43.280483300734566"
        ],
        [
         "41",
         "2023-11-30 00:00:00",
         "Columbia",
         "Camisetas Urban",
         "140.0",
         "39.49993607204846"
        ],
        [
         "42",
         "2023-12-31 00:00:00",
         "Columbia",
         "Camisetas Urban",
         "140.0",
         "35.14470870861865"
        ],
        [
         "43",
         "2024-01-31 00:00:00",
         "Columbia",
         "Camisetas Urban",
         "140.0",
         "31.950861380081662"
        ],
        [
         "44",
         "2024-02-29 00:00:00",
         "Columbia",
         "Camisetas Urban",
         "140.0",
         "114.96047166489691"
        ],
        [
         "45",
         "2024-03-31 00:00:00",
         "Columbia",
         "Camisetas Urban",
         "110.0",
         "377.68039514232214"
        ],
        [
         "46",
         "2024-04-30 00:00:00",
         "Columbia",
         "Camisetas Urban",
         "80.0",
         "1003.3883134858011"
        ],
        [
         "47",
         "2024-05-31 00:00:00",
         "Columbia",
         "Camisetas Urban",
         "369.85",
         "47.89943275923538"
        ],
        [
         "48",
         "2024-06-30 00:00:00",
         "Columbia",
         "Camisetas Urban",
         "719.9",
         "484.0568432267693"
        ],
        [
         "49",
         "2024-07-31 00:00:00",
         "Columbia",
         "Camisetas Urban",
         "579.9",
         "417.07718679820937"
        ]
       ],
       "shape": {
        "columns": 5,
        "rows": 824
       }
      },
      "text/html": [
       "<div>\n",
       "<style scoped>\n",
       "    .dataframe tbody tr th:only-of-type {\n",
       "        vertical-align: middle;\n",
       "    }\n",
       "\n",
       "    .dataframe tbody tr th {\n",
       "        vertical-align: top;\n",
       "    }\n",
       "\n",
       "    .dataframe thead th {\n",
       "        text-align: right;\n",
       "    }\n",
       "</style>\n",
       "<table border=\"1\" class=\"dataframe\">\n",
       "  <thead>\n",
       "    <tr style=\"text-align: right;\">\n",
       "      <th></th>\n",
       "      <th>date</th>\n",
       "      <th>brand</th>\n",
       "      <th>family</th>\n",
       "      <th>total_revenue</th>\n",
       "      <th>forecast_revenue</th>\n",
       "    </tr>\n",
       "  </thead>\n",
       "  <tbody>\n",
       "    <tr>\n",
       "      <th>0</th>\n",
       "      <td>2023-10-31</td>\n",
       "      <td>Columbia</td>\n",
       "      <td>Bañadores Natación</td>\n",
       "      <td>99.949997</td>\n",
       "      <td>110.397347</td>\n",
       "    </tr>\n",
       "    <tr>\n",
       "      <th>1</th>\n",
       "      <td>2023-11-30</td>\n",
       "      <td>Columbia</td>\n",
       "      <td>Bañadores Natación</td>\n",
       "      <td>99.949997</td>\n",
       "      <td>90.428565</td>\n",
       "    </tr>\n",
       "    <tr>\n",
       "      <th>2</th>\n",
       "      <td>2023-12-31</td>\n",
       "      <td>Columbia</td>\n",
       "      <td>Bañadores Natación</td>\n",
       "      <td>99.949997</td>\n",
       "      <td>91.267492</td>\n",
       "    </tr>\n",
       "    <tr>\n",
       "      <th>3</th>\n",
       "      <td>2024-01-31</td>\n",
       "      <td>Columbia</td>\n",
       "      <td>Bañadores Natación</td>\n",
       "      <td>99.949997</td>\n",
       "      <td>99.368503</td>\n",
       "    </tr>\n",
       "    <tr>\n",
       "      <th>4</th>\n",
       "      <td>2024-02-29</td>\n",
       "      <td>Columbia</td>\n",
       "      <td>Bañadores Natación</td>\n",
       "      <td>99.949997</td>\n",
       "      <td>114.270362</td>\n",
       "    </tr>\n",
       "    <tr>\n",
       "      <th>...</th>\n",
       "      <td>...</td>\n",
       "      <td>...</td>\n",
       "      <td>...</td>\n",
       "      <td>...</td>\n",
       "      <td>...</td>\n",
       "    </tr>\n",
       "    <tr>\n",
       "      <th>819</th>\n",
       "      <td>2024-03-31</td>\n",
       "      <td>adidas</td>\n",
       "      <td>Zuecos Urban</td>\n",
       "      <td>99.949997</td>\n",
       "      <td>115.963923</td>\n",
       "    </tr>\n",
       "    <tr>\n",
       "      <th>820</th>\n",
       "      <td>2024-04-30</td>\n",
       "      <td>adidas</td>\n",
       "      <td>Zuecos Urban</td>\n",
       "      <td>99.949997</td>\n",
       "      <td>175.494766</td>\n",
       "    </tr>\n",
       "    <tr>\n",
       "      <th>821</th>\n",
       "      <td>2024-05-31</td>\n",
       "      <td>adidas</td>\n",
       "      <td>Zuecos Urban</td>\n",
       "      <td>199.899994</td>\n",
       "      <td>168.540355</td>\n",
       "    </tr>\n",
       "    <tr>\n",
       "      <th>822</th>\n",
       "      <td>2024-06-30</td>\n",
       "      <td>adidas</td>\n",
       "      <td>Zuecos Urban</td>\n",
       "      <td>99.949997</td>\n",
       "      <td>181.505176</td>\n",
       "    </tr>\n",
       "    <tr>\n",
       "      <th>823</th>\n",
       "      <td>2024-07-31</td>\n",
       "      <td>adidas</td>\n",
       "      <td>Zuecos Urban</td>\n",
       "      <td>99.949997</td>\n",
       "      <td>162.254332</td>\n",
       "    </tr>\n",
       "  </tbody>\n",
       "</table>\n",
       "<p>824 rows × 5 columns</p>\n",
       "</div>"
      ],
      "text/plain": [
       "          date     brand              family  total_revenue  forecast_revenue\n",
       "0   2023-10-31  Columbia  Bañadores Natación      99.949997        110.397347\n",
       "1   2023-11-30  Columbia  Bañadores Natación      99.949997         90.428565\n",
       "2   2023-12-31  Columbia  Bañadores Natación      99.949997         91.267492\n",
       "3   2024-01-31  Columbia  Bañadores Natación      99.949997         99.368503\n",
       "4   2024-02-29  Columbia  Bañadores Natación      99.949997        114.270362\n",
       "..         ...       ...                 ...            ...               ...\n",
       "819 2024-03-31    adidas        Zuecos Urban      99.949997        115.963923\n",
       "820 2024-04-30    adidas        Zuecos Urban      99.949997        175.494766\n",
       "821 2024-05-31    adidas        Zuecos Urban     199.899994        168.540355\n",
       "822 2024-06-30    adidas        Zuecos Urban      99.949997        181.505176\n",
       "823 2024-07-31    adidas        Zuecos Urban      99.949997        162.254332\n",
       "\n",
       "[824 rows x 5 columns]"
      ]
     },
     "execution_count": 13,
     "metadata": {},
     "output_type": "execute_result"
    }
   ],
   "source": [
    "actual_vs_forecast"
   ]
  },
  {
   "cell_type": "code",
   "execution_count": 14,
   "metadata": {},
   "outputs": [],
   "source": [
    "import numpy as np"
   ]
  },
  {
   "cell_type": "code",
   "execution_count": null,
   "metadata": {},
   "outputs": [],
   "source": [
    "round(np.sqrt(mean_squared_error(y_test, y_pred)), 3)"
   ]
  }
 ],
 "metadata": {
  "kernelspec": {
   "display_name": ".venv",
   "language": "python",
   "name": "python3"
  },
  "language_info": {
   "codemirror_mode": {
    "name": "ipython",
    "version": 3
   },
   "file_extension": ".py",
   "mimetype": "text/x-python",
   "name": "python",
   "nbconvert_exporter": "python",
   "pygments_lexer": "ipython3",
   "version": "3.13.1"
  }
 },
 "nbformat": 4,
 "nbformat_minor": 2
}
