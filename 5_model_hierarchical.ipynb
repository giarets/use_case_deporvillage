{
 "cells": [
  {
   "cell_type": "markdown",
   "metadata": {},
   "source": [
    "1️⃣ Use Hierarchical Forecasting   \n",
    "  \n",
    "What It Is   \n",
    "\t•\tHierarchical forecasting aggregates data at higher levels (e.g., brand level or total sales) to compensate for sparsity at lower levels (e.g., brand + family).   \n",
    "\t•\tPredictions are made at the higher levels and disaggregated down to smaller groups (e.g., brand-family) using proportions.   \n",
    "  \n",
    "Steps to Implement   \n",
    "\t1.\tAggregate to Higher Levels:   \n",
    "\t•\tAggregate sparse brand-family data up to broader levels:   \n",
    "\t•\tBrand level: brand_total_sales  \n",
    "\t•\tFamily level: family_total_sales  \n",
    "\t•\tOverall total: global_total_sales  \n",
    "\t•\tUse the aggregated time series to train the model.  \n",
    "\t2.\tForecast at Higher Levels:   \n",
    "\t•\tPredict sales at the aggregated levels using richer historical data.  \n",
    "\t3.\tDisaggregate Forecasts:  \n",
    "\t•\tSplit the higher-level forecasts back down to the brand-family level using historical proportions. For example:\n",
    "$\\text{brand\\_family\\_forecast} = \\text{brand\\_forecast} \\times \\frac{\\text{brand\\_family\\_sales}}{\\text{brand\\_total\\_sales}}$  \n",
    "\t4.\tSmooth Proportions for Stability:  \n",
    "\t•\tUse smoothed historical proportions (e.g., rolling averages) to prevent overfitting to noisy historical proportions.  \n",
    "\n",
    "\n",
    "\n",
    "Steps in the Implementation  \n",
    "\t1.\tAggregate Sparse Data to Higher Levels (e.g., brand).    \n",
    "\t2.\tTrain a Forecasting Model at the Higher Level (e.g., using a simple statistical model or machine learning).    \n",
    "\t3.\tDisaggregate Forecasts:    \n",
    "\t•\tUse historical proportions to split higher-level forecasts back down to the brand + family level.  "
   ]
  },
  {
   "cell_type": "code",
   "execution_count": 1,
   "metadata": {},
   "outputs": [],
   "source": [
    "import pandas as pd\n",
    "import utils.utils_models as utils_models\n",
    "\n",
    "import utils.utils_preprocessing as utils_preprocessing\n",
    "import utils.utils_features as utils_features"
   ]
  },
  {
   "cell_type": "code",
   "execution_count": 2,
   "metadata": {},
   "outputs": [],
   "source": [
    "df_sales = pd.read_parquet(\"data/sales.parquet\")\n",
    "df_products = pd.read_parquet(\"data/products.parquet\")\n",
    "df = df_sales.merge(df_products, on=\"product_id\")"
   ]
  },
  {
   "cell_type": "code",
   "execution_count": 3,
   "metadata": {},
   "outputs": [],
   "source": [
    "df = utils_preprocessing.set_types(df)\n",
    "df = utils_preprocessing.filter_dates(df, date=\"2024-09-01\")\n",
    "\n",
    "df_monthly = utils_preprocessing.aggregate_data(\n",
    "    df, \n",
    "    frequency=\"ME\"\n",
    "    )\n",
    "df_monthly = utils_preprocessing.fill_in_missing_dates(\n",
    "    df_monthly, \n",
    "    group_col=[\"brand\", \"family\"], \n",
    "    date_col=\"date\", \n",
    "    freq=\"ME\"\n",
    "    )\n",
    "df_monthly = utils_features.features_time_related(\n",
    "    df_monthly, \n",
    "    frequency='ME'\n",
    "    )"
   ]
  },
  {
   "cell_type": "code",
   "execution_count": 4,
   "metadata": {},
   "outputs": [
    {
     "data": {
      "application/vnd.microsoft.datawrangler.viewer.v0+json": {
       "columns": [
        {
         "name": "index",
         "rawType": "int64",
         "type": "integer"
        },
        {
         "name": "brand",
         "rawType": "object",
         "type": "string"
        },
        {
         "name": "family",
         "rawType": "object",
         "type": "string"
        },
        {
         "name": "date",
         "rawType": "datetime64[ns]",
         "type": "datetime"
        },
        {
         "name": "total_revenue",
         "rawType": "float32",
         "type": "float"
        },
        {
         "name": "year",
         "rawType": "int32",
         "type": "integer"
        },
        {
         "name": "month_of_year",
         "rawType": "int32",
         "type": "integer"
        },
        {
         "name": "sin_month_of_year",
         "rawType": "float64",
         "type": "float"
        },
        {
         "name": "cos_month_of_year",
         "rawType": "float64",
         "type": "float"
        }
       ],
       "conversionMethod": "pd.DataFrame",
       "ref": "10b059f5-8186-4efd-bc3f-57d7025b6d66",
       "rows": [
        [
         "1696",
         "adidas",
         "Chanclas Urban",
         "2022-09-30 00:00:00",
         "0.0",
         "2022",
         "9",
         "-1.0",
         "-0.0"
        ],
        [
         "1697",
         "adidas",
         "Chanclas Urban",
         "2022-10-31 00:00:00",
         "0.0",
         "2022",
         "10",
         "-0.866",
         "0.5"
        ],
        [
         "1698",
         "adidas",
         "Chanclas Urban",
         "2022-11-30 00:00:00",
         "0.0",
         "2022",
         "11",
         "-0.5",
         "0.866"
        ],
        [
         "1699",
         "adidas",
         "Chanclas Urban",
         "2022-12-31 00:00:00",
         "0.0",
         "2022",
         "12",
         "-0.0",
         "1.0"
        ],
        [
         "1700",
         "adidas",
         "Chanclas Urban",
         "2023-01-31 00:00:00",
         "0.0",
         "2023",
         "1",
         "0.5",
         "0.866"
        ],
        [
         "1701",
         "adidas",
         "Chanclas Urban",
         "2023-02-28 00:00:00",
         "0.0",
         "2023",
         "2",
         "0.866",
         "0.5"
        ],
        [
         "2971",
         "adidas",
         "Sudaderas Training",
         "2021-04-30 00:00:00",
         "0.0",
         "2021",
         "4",
         "0.866",
         "-0.5"
        ],
        [
         "3338",
         "adidas",
         "Zapatillas Triatlón running",
         "2022-02-28 00:00:00",
         "0.0",
         "2022",
         "2",
         "0.866",
         "0.5"
        ],
        [
         "3339",
         "adidas",
         "Zapatillas Triatlón running",
         "2022-03-31 00:00:00",
         "0.0",
         "2022",
         "3",
         "1.0",
         "0.0"
        ],
        [
         "3340",
         "adidas",
         "Zapatillas Triatlón running",
         "2022-04-30 00:00:00",
         "0.0",
         "2022",
         "4",
         "0.866",
         "-0.5"
        ],
        [
         "3341",
         "adidas",
         "Zapatillas Triatlón running",
         "2022-05-31 00:00:00",
         "0.0",
         "2022",
         "5",
         "0.5",
         "-0.866"
        ],
        [
         "3342",
         "adidas",
         "Zapatillas Triatlón running",
         "2022-06-30 00:00:00",
         "0.0",
         "2022",
         "6",
         "0.0",
         "-1.0"
        ],
        [
         "3343",
         "adidas",
         "Zapatillas Triatlón running",
         "2022-07-31 00:00:00",
         "0.0",
         "2022",
         "7",
         "-0.5",
         "-0.866"
        ],
        [
         "3344",
         "adidas",
         "Zapatillas Triatlón running",
         "2022-08-31 00:00:00",
         "0.0",
         "2022",
         "8",
         "-0.866",
         "-0.5"
        ],
        [
         "3345",
         "adidas",
         "Zapatillas Triatlón running",
         "2022-09-30 00:00:00",
         "0.0",
         "2022",
         "9",
         "-1.0",
         "-0.0"
        ],
        [
         "3346",
         "adidas",
         "Zapatillas Triatlón running",
         "2022-10-31 00:00:00",
         "0.0",
         "2022",
         "10",
         "-0.866",
         "0.5"
        ]
       ],
       "shape": {
        "columns": 8,
        "rows": 16
       }
      },
      "text/html": [
       "<div>\n",
       "<style scoped>\n",
       "    .dataframe tbody tr th:only-of-type {\n",
       "        vertical-align: middle;\n",
       "    }\n",
       "\n",
       "    .dataframe tbody tr th {\n",
       "        vertical-align: top;\n",
       "    }\n",
       "\n",
       "    .dataframe thead th {\n",
       "        text-align: right;\n",
       "    }\n",
       "</style>\n",
       "<table border=\"1\" class=\"dataframe\">\n",
       "  <thead>\n",
       "    <tr style=\"text-align: right;\">\n",
       "      <th></th>\n",
       "      <th>brand</th>\n",
       "      <th>family</th>\n",
       "      <th>date</th>\n",
       "      <th>total_revenue</th>\n",
       "      <th>year</th>\n",
       "      <th>month_of_year</th>\n",
       "      <th>sin_month_of_year</th>\n",
       "      <th>cos_month_of_year</th>\n",
       "    </tr>\n",
       "  </thead>\n",
       "  <tbody>\n",
       "    <tr>\n",
       "      <th>1696</th>\n",
       "      <td>adidas</td>\n",
       "      <td>Chanclas Urban</td>\n",
       "      <td>2022-09-30</td>\n",
       "      <td>0.0</td>\n",
       "      <td>2022</td>\n",
       "      <td>9</td>\n",
       "      <td>-1.000</td>\n",
       "      <td>-0.000</td>\n",
       "    </tr>\n",
       "    <tr>\n",
       "      <th>1697</th>\n",
       "      <td>adidas</td>\n",
       "      <td>Chanclas Urban</td>\n",
       "      <td>2022-10-31</td>\n",
       "      <td>0.0</td>\n",
       "      <td>2022</td>\n",
       "      <td>10</td>\n",
       "      <td>-0.866</td>\n",
       "      <td>0.500</td>\n",
       "    </tr>\n",
       "    <tr>\n",
       "      <th>1698</th>\n",
       "      <td>adidas</td>\n",
       "      <td>Chanclas Urban</td>\n",
       "      <td>2022-11-30</td>\n",
       "      <td>0.0</td>\n",
       "      <td>2022</td>\n",
       "      <td>11</td>\n",
       "      <td>-0.500</td>\n",
       "      <td>0.866</td>\n",
       "    </tr>\n",
       "    <tr>\n",
       "      <th>1699</th>\n",
       "      <td>adidas</td>\n",
       "      <td>Chanclas Urban</td>\n",
       "      <td>2022-12-31</td>\n",
       "      <td>0.0</td>\n",
       "      <td>2022</td>\n",
       "      <td>12</td>\n",
       "      <td>-0.000</td>\n",
       "      <td>1.000</td>\n",
       "    </tr>\n",
       "    <tr>\n",
       "      <th>1700</th>\n",
       "      <td>adidas</td>\n",
       "      <td>Chanclas Urban</td>\n",
       "      <td>2023-01-31</td>\n",
       "      <td>0.0</td>\n",
       "      <td>2023</td>\n",
       "      <td>1</td>\n",
       "      <td>0.500</td>\n",
       "      <td>0.866</td>\n",
       "    </tr>\n",
       "    <tr>\n",
       "      <th>1701</th>\n",
       "      <td>adidas</td>\n",
       "      <td>Chanclas Urban</td>\n",
       "      <td>2023-02-28</td>\n",
       "      <td>0.0</td>\n",
       "      <td>2023</td>\n",
       "      <td>2</td>\n",
       "      <td>0.866</td>\n",
       "      <td>0.500</td>\n",
       "    </tr>\n",
       "    <tr>\n",
       "      <th>2971</th>\n",
       "      <td>adidas</td>\n",
       "      <td>Sudaderas Training</td>\n",
       "      <td>2021-04-30</td>\n",
       "      <td>0.0</td>\n",
       "      <td>2021</td>\n",
       "      <td>4</td>\n",
       "      <td>0.866</td>\n",
       "      <td>-0.500</td>\n",
       "    </tr>\n",
       "    <tr>\n",
       "      <th>3338</th>\n",
       "      <td>adidas</td>\n",
       "      <td>Zapatillas Triatlón running</td>\n",
       "      <td>2022-02-28</td>\n",
       "      <td>0.0</td>\n",
       "      <td>2022</td>\n",
       "      <td>2</td>\n",
       "      <td>0.866</td>\n",
       "      <td>0.500</td>\n",
       "    </tr>\n",
       "    <tr>\n",
       "      <th>3339</th>\n",
       "      <td>adidas</td>\n",
       "      <td>Zapatillas Triatlón running</td>\n",
       "      <td>2022-03-31</td>\n",
       "      <td>0.0</td>\n",
       "      <td>2022</td>\n",
       "      <td>3</td>\n",
       "      <td>1.000</td>\n",
       "      <td>0.000</td>\n",
       "    </tr>\n",
       "    <tr>\n",
       "      <th>3340</th>\n",
       "      <td>adidas</td>\n",
       "      <td>Zapatillas Triatlón running</td>\n",
       "      <td>2022-04-30</td>\n",
       "      <td>0.0</td>\n",
       "      <td>2022</td>\n",
       "      <td>4</td>\n",
       "      <td>0.866</td>\n",
       "      <td>-0.500</td>\n",
       "    </tr>\n",
       "    <tr>\n",
       "      <th>3341</th>\n",
       "      <td>adidas</td>\n",
       "      <td>Zapatillas Triatlón running</td>\n",
       "      <td>2022-05-31</td>\n",
       "      <td>0.0</td>\n",
       "      <td>2022</td>\n",
       "      <td>5</td>\n",
       "      <td>0.500</td>\n",
       "      <td>-0.866</td>\n",
       "    </tr>\n",
       "    <tr>\n",
       "      <th>3342</th>\n",
       "      <td>adidas</td>\n",
       "      <td>Zapatillas Triatlón running</td>\n",
       "      <td>2022-06-30</td>\n",
       "      <td>0.0</td>\n",
       "      <td>2022</td>\n",
       "      <td>6</td>\n",
       "      <td>0.000</td>\n",
       "      <td>-1.000</td>\n",
       "    </tr>\n",
       "    <tr>\n",
       "      <th>3343</th>\n",
       "      <td>adidas</td>\n",
       "      <td>Zapatillas Triatlón running</td>\n",
       "      <td>2022-07-31</td>\n",
       "      <td>0.0</td>\n",
       "      <td>2022</td>\n",
       "      <td>7</td>\n",
       "      <td>-0.500</td>\n",
       "      <td>-0.866</td>\n",
       "    </tr>\n",
       "    <tr>\n",
       "      <th>3344</th>\n",
       "      <td>adidas</td>\n",
       "      <td>Zapatillas Triatlón running</td>\n",
       "      <td>2022-08-31</td>\n",
       "      <td>0.0</td>\n",
       "      <td>2022</td>\n",
       "      <td>8</td>\n",
       "      <td>-0.866</td>\n",
       "      <td>-0.500</td>\n",
       "    </tr>\n",
       "    <tr>\n",
       "      <th>3345</th>\n",
       "      <td>adidas</td>\n",
       "      <td>Zapatillas Triatlón running</td>\n",
       "      <td>2022-09-30</td>\n",
       "      <td>0.0</td>\n",
       "      <td>2022</td>\n",
       "      <td>9</td>\n",
       "      <td>-1.000</td>\n",
       "      <td>-0.000</td>\n",
       "    </tr>\n",
       "    <tr>\n",
       "      <th>3346</th>\n",
       "      <td>adidas</td>\n",
       "      <td>Zapatillas Triatlón running</td>\n",
       "      <td>2022-10-31</td>\n",
       "      <td>0.0</td>\n",
       "      <td>2022</td>\n",
       "      <td>10</td>\n",
       "      <td>-0.866</td>\n",
       "      <td>0.500</td>\n",
       "    </tr>\n",
       "  </tbody>\n",
       "</table>\n",
       "</div>"
      ],
      "text/plain": [
       "       brand                       family       date  total_revenue  year  \\\n",
       "1696  adidas               Chanclas Urban 2022-09-30            0.0  2022   \n",
       "1697  adidas               Chanclas Urban 2022-10-31            0.0  2022   \n",
       "1698  adidas               Chanclas Urban 2022-11-30            0.0  2022   \n",
       "1699  adidas               Chanclas Urban 2022-12-31            0.0  2022   \n",
       "1700  adidas               Chanclas Urban 2023-01-31            0.0  2023   \n",
       "1701  adidas               Chanclas Urban 2023-02-28            0.0  2023   \n",
       "2971  adidas           Sudaderas Training 2021-04-30            0.0  2021   \n",
       "3338  adidas  Zapatillas Triatlón running 2022-02-28            0.0  2022   \n",
       "3339  adidas  Zapatillas Triatlón running 2022-03-31            0.0  2022   \n",
       "3340  adidas  Zapatillas Triatlón running 2022-04-30            0.0  2022   \n",
       "3341  adidas  Zapatillas Triatlón running 2022-05-31            0.0  2022   \n",
       "3342  adidas  Zapatillas Triatlón running 2022-06-30            0.0  2022   \n",
       "3343  adidas  Zapatillas Triatlón running 2022-07-31            0.0  2022   \n",
       "3344  adidas  Zapatillas Triatlón running 2022-08-31            0.0  2022   \n",
       "3345  adidas  Zapatillas Triatlón running 2022-09-30            0.0  2022   \n",
       "3346  adidas  Zapatillas Triatlón running 2022-10-31            0.0  2022   \n",
       "\n",
       "      month_of_year  sin_month_of_year  cos_month_of_year  \n",
       "1696              9             -1.000             -0.000  \n",
       "1697             10             -0.866              0.500  \n",
       "1698             11             -0.500              0.866  \n",
       "1699             12             -0.000              1.000  \n",
       "1700              1              0.500              0.866  \n",
       "1701              2              0.866              0.500  \n",
       "2971              4              0.866             -0.500  \n",
       "3338              2              0.866              0.500  \n",
       "3339              3              1.000              0.000  \n",
       "3340              4              0.866             -0.500  \n",
       "3341              5              0.500             -0.866  \n",
       "3342              6              0.000             -1.000  \n",
       "3343              7             -0.500             -0.866  \n",
       "3344              8             -0.866             -0.500  \n",
       "3345              9             -1.000             -0.000  \n",
       "3346             10             -0.866              0.500  "
      ]
     },
     "execution_count": 4,
     "metadata": {},
     "output_type": "execute_result"
    }
   ],
   "source": [
    "df_monthly[df_monthly[\"total_revenue\"]<0.1]"
   ]
  },
  {
   "cell_type": "code",
   "execution_count": 5,
   "metadata": {},
   "outputs": [],
   "source": [
    "# Use the last month of your dataset as the reference to split\n",
    "train_end_date = df_monthly['date'].max() - pd.DateOffset(months=12)\n",
    "\n",
    "# Split into training and test sets\n",
    "train_data = df_monthly[df_monthly['date'] <= train_end_date]\n",
    "test_data = df_monthly[df_monthly['date'] > train_end_date]\n",
    "X_train, X_test, y_train, y_test = utils_preprocessing.train_test_split(df_monthly, forecasting_horizon=12, target_col=\"total_revenue\")"
   ]
  },
  {
   "cell_type": "code",
   "execution_count": 6,
   "metadata": {},
   "outputs": [],
   "source": [
    "# Compute proportions with historical data\n",
    "\n",
    "# Step 2: Aggregate total revenue by date\n",
    "df_revenue_agg = train_data.groupby('date')['total_revenue'].sum().reset_index()\n",
    "df_revenue_agg.rename(columns={'total_revenue': 'total_revenue_agg'}, inplace=True)\n",
    "\n",
    "# Step 3: Merge to calculate proportions\n",
    "df_proportions = train_data.merge(df_revenue_agg, on='date')\n",
    "\n",
    "# Step 4: Calculate the proportion for each brand/family\n",
    "df_proportions['proportion'] = (\n",
    "    df_proportions['total_revenue'] / df_proportions['total_revenue_agg']\n",
    ")\n",
    "\n",
    "# Final DataFrame with proportions\n",
    "df_proportions = df_proportions[['date', 'brand', 'family', 'proportion']]\n",
    "\n",
    "# Combine all the monthly proportions into a single DataFrame\n",
    "df_proportions['month'] = df_proportions['date'].dt.month\n",
    "df_proportions = df_proportions.drop(columns='date')\n",
    "df_proportions = df_proportions.groupby(['brand', 'family', 'month'], as_index=False).agg({'proportion': 'mean'})"
   ]
  },
  {
   "cell_type": "code",
   "execution_count": 19,
   "metadata": {},
   "outputs": [
    {
     "name": "stderr",
     "output_type": "stream",
     "text": [
      "/Users/matteogiaretti/Python/use_case_deporvillage/.venv/lib/python3.13/site-packages/statsmodels/tsa/base/tsa_model.py:473: ValueWarning: No frequency information was provided, so inferred frequency ME will be used.\n",
      "  self._init_dates(dates, freq)\n",
      "/Users/matteogiaretti/Python/use_case_deporvillage/.venv/lib/python3.13/site-packages/statsmodels/tsa/base/tsa_model.py:473: ValueWarning: No frequency information was provided, so inferred frequency ME will be used.\n",
      "  self._init_dates(dates, freq)\n",
      "/Users/matteogiaretti/Python/use_case_deporvillage/.venv/lib/python3.13/site-packages/statsmodels/tsa/statespace/sarimax.py:866: UserWarning: Too few observations to estimate starting parameters for seasonal ARMA. All parameters except for variances will be set to zeros.\n",
      "  warn('Too few observations to estimate starting parameters%s.'\n"
     ]
    }
   ],
   "source": [
    "# Predict with aggregated data\n",
    "\n",
    "hyperparameters = {\n",
    "    \"order\": (1, 1, 1),            \n",
    "    \"seasonal_order\": (1, 1, 1, 12),  \n",
    "    \"steps_ahead\": 12       \n",
    "}\n",
    "\n",
    "sarima_model = utils_models.SarimaForecastingModel(hyperparameters=hyperparameters)\n",
    "sarima_model.train(X_train=None, y_train=train_data.groupby('date')['total_revenue'].sum()) \n",
    "sarima_result = sarima_model.predict(X=None) \n",
    "\n",
    "df_predictions_agg = sarima_result.reset_index()\n",
    "df_predictions_agg.columns = ['date', 'forecast_total_revenue']\n",
    "df_predictions_agg['month'] = df_predictions_agg['date'].dt.month\n",
    "\n",
    "# Add the ground truth\n",
    "\n",
    "# df_test_agg = test_data.groupby('date')['total_revenue'].sum().reset_index()\n",
    "# df_test_agg.rename(columns={'total_revenue': 'total_revenue_agg'}, inplace=True)\n",
    "# df_predictions_agg = df_predictions_agg.merge(df_test_agg, on='date')"
   ]
  },
  {
   "cell_type": "code",
   "execution_count": 22,
   "metadata": {},
   "outputs": [
    {
     "data": {
      "application/vnd.microsoft.datawrangler.viewer.v0+json": {
       "columns": [
        {
         "name": "index",
         "rawType": "int64",
         "type": "integer"
        },
        {
         "name": "date",
         "rawType": "datetime64[ns]",
         "type": "datetime"
        },
        {
         "name": "forecast_total_revenue",
         "rawType": "float64",
         "type": "float"
        },
        {
         "name": "month",
         "rawType": "int32",
         "type": "integer"
        }
       ],
       "conversionMethod": "pd.DataFrame",
       "ref": "b47bf1f9-0459-4763-a9c1-d43298793828",
       "rows": [
        [
         "0",
         "2023-09-30 00:00:00",
         "80007.22897268608",
         "9"
        ],
        [
         "1",
         "2023-10-31 00:00:00",
         "78007.84293799527",
         "10"
        ],
        [
         "2",
         "2023-11-30 00:00:00",
         "129691.41847087319",
         "11"
        ],
        [
         "3",
         "2023-12-31 00:00:00",
         "129367.8945514016",
         "12"
        ],
        [
         "4",
         "2024-01-31 00:00:00",
         "124284.65364492213",
         "1"
        ],
        [
         "5",
         "2024-02-29 00:00:00",
         "92738.67263781509",
         "2"
        ],
        [
         "6",
         "2024-03-31 00:00:00",
         "101125.50984458732",
         "3"
        ],
        [
         "7",
         "2024-04-30 00:00:00",
         "99445.59157024494",
         "4"
        ],
        [
         "8",
         "2024-05-31 00:00:00",
         "97812.68004032804",
         "5"
        ],
        [
         "9",
         "2024-06-30 00:00:00",
         "80088.51372203037",
         "6"
        ],
        [
         "10",
         "2024-07-31 00:00:00",
         "74562.48995773427",
         "7"
        ],
        [
         "11",
         "2024-08-31 00:00:00",
         "80267.727553834",
         "8"
        ]
       ],
       "shape": {
        "columns": 3,
        "rows": 12
       }
      },
      "text/html": [
       "<div>\n",
       "<style scoped>\n",
       "    .dataframe tbody tr th:only-of-type {\n",
       "        vertical-align: middle;\n",
       "    }\n",
       "\n",
       "    .dataframe tbody tr th {\n",
       "        vertical-align: top;\n",
       "    }\n",
       "\n",
       "    .dataframe thead th {\n",
       "        text-align: right;\n",
       "    }\n",
       "</style>\n",
       "<table border=\"1\" class=\"dataframe\">\n",
       "  <thead>\n",
       "    <tr style=\"text-align: right;\">\n",
       "      <th></th>\n",
       "      <th>date</th>\n",
       "      <th>forecast_total_revenue</th>\n",
       "      <th>month</th>\n",
       "    </tr>\n",
       "  </thead>\n",
       "  <tbody>\n",
       "    <tr>\n",
       "      <th>0</th>\n",
       "      <td>2023-09-30</td>\n",
       "      <td>80007.228973</td>\n",
       "      <td>9</td>\n",
       "    </tr>\n",
       "    <tr>\n",
       "      <th>1</th>\n",
       "      <td>2023-10-31</td>\n",
       "      <td>78007.842938</td>\n",
       "      <td>10</td>\n",
       "    </tr>\n",
       "    <tr>\n",
       "      <th>2</th>\n",
       "      <td>2023-11-30</td>\n",
       "      <td>129691.418471</td>\n",
       "      <td>11</td>\n",
       "    </tr>\n",
       "    <tr>\n",
       "      <th>3</th>\n",
       "      <td>2023-12-31</td>\n",
       "      <td>129367.894551</td>\n",
       "      <td>12</td>\n",
       "    </tr>\n",
       "    <tr>\n",
       "      <th>4</th>\n",
       "      <td>2024-01-31</td>\n",
       "      <td>124284.653645</td>\n",
       "      <td>1</td>\n",
       "    </tr>\n",
       "    <tr>\n",
       "      <th>5</th>\n",
       "      <td>2024-02-29</td>\n",
       "      <td>92738.672638</td>\n",
       "      <td>2</td>\n",
       "    </tr>\n",
       "    <tr>\n",
       "      <th>6</th>\n",
       "      <td>2024-03-31</td>\n",
       "      <td>101125.509845</td>\n",
       "      <td>3</td>\n",
       "    </tr>\n",
       "    <tr>\n",
       "      <th>7</th>\n",
       "      <td>2024-04-30</td>\n",
       "      <td>99445.591570</td>\n",
       "      <td>4</td>\n",
       "    </tr>\n",
       "    <tr>\n",
       "      <th>8</th>\n",
       "      <td>2024-05-31</td>\n",
       "      <td>97812.680040</td>\n",
       "      <td>5</td>\n",
       "    </tr>\n",
       "    <tr>\n",
       "      <th>9</th>\n",
       "      <td>2024-06-30</td>\n",
       "      <td>80088.513722</td>\n",
       "      <td>6</td>\n",
       "    </tr>\n",
       "    <tr>\n",
       "      <th>10</th>\n",
       "      <td>2024-07-31</td>\n",
       "      <td>74562.489958</td>\n",
       "      <td>7</td>\n",
       "    </tr>\n",
       "    <tr>\n",
       "      <th>11</th>\n",
       "      <td>2024-08-31</td>\n",
       "      <td>80267.727554</td>\n",
       "      <td>8</td>\n",
       "    </tr>\n",
       "  </tbody>\n",
       "</table>\n",
       "</div>"
      ],
      "text/plain": [
       "         date  forecast_total_revenue  month\n",
       "0  2023-09-30            80007.228973      9\n",
       "1  2023-10-31            78007.842938     10\n",
       "2  2023-11-30           129691.418471     11\n",
       "3  2023-12-31           129367.894551     12\n",
       "4  2024-01-31           124284.653645      1\n",
       "5  2024-02-29            92738.672638      2\n",
       "6  2024-03-31           101125.509845      3\n",
       "7  2024-04-30            99445.591570      4\n",
       "8  2024-05-31            97812.680040      5\n",
       "9  2024-06-30            80088.513722      6\n",
       "10 2024-07-31            74562.489958      7\n",
       "11 2024-08-31            80267.727554      8"
      ]
     },
     "execution_count": 22,
     "metadata": {},
     "output_type": "execute_result"
    }
   ],
   "source": [
    "df_predictions_agg"
   ]
  },
  {
   "cell_type": "code",
   "execution_count": 34,
   "metadata": {},
   "outputs": [
    {
     "name": "stderr",
     "output_type": "stream",
     "text": [
      "/Users/matteogiaretti/Python/use_case_deporvillage/.venv/lib/python3.13/site-packages/statsmodels/tsa/base/tsa_model.py:473: ValueWarning: No frequency information was provided, so inferred frequency ME will be used.\n",
      "  self._init_dates(dates, freq)\n",
      "/Users/matteogiaretti/Python/use_case_deporvillage/.venv/lib/python3.13/site-packages/statsmodels/tsa/holtwinters/model.py:918: ConvergenceWarning: Optimization failed to converge. Check mle_retvals.\n",
      "  warnings.warn(\n"
     ]
    }
   ],
   "source": [
    "hyperparameters = {\n",
    "    \"trend\": \"mul\",           # Additive trend component\n",
    "    \"seasonal\": \"mul\",        # Multiplicative seasonality\n",
    "    \"seasonal_periods\": 12,   # Number of periods in a season (e.g., 12 for monthly data)\n",
    "    \"steps_ahead\": 12,        # Number of periods to forecast ahead\n",
    "}\n",
    "\n",
    "exp_smoothing_model = utils_models.ExponentialSmoothingForecastingModel(hyperparameters)\n",
    "exp_smoothing_model.train(X_train=None, y_train=train_data.groupby('date')['total_revenue'].sum())\n",
    "predictions = exp_smoothing_model.predict(None)\n",
    "\n",
    "df_predictions_agg = predictions.reset_index()\n",
    "df_predictions_agg.columns = ['date', 'forecast_total_revenue']\n",
    "df_predictions_agg['month'] = df_predictions_agg['date'].dt.month\n",
    "\n",
    "# Add the ground truth\n",
    "df_test_agg = test_data.groupby('date')['total_revenue'].sum().reset_index()\n",
    "df_test_agg.rename(columns={'total_revenue': 'total_revenue_agg'}, inplace=True)\n",
    "df_predictions_agg = df_predictions_agg.merge(df_test_agg, on='date')"
   ]
  },
  {
   "cell_type": "code",
   "execution_count": 35,
   "metadata": {},
   "outputs": [
    {
     "data": {
      "text/plain": [
       "<Axes: xlabel='date'>"
      ]
     },
     "execution_count": 35,
     "metadata": {},
     "output_type": "execute_result"
    },
    {
     "data": {
      "image/png": "[encoded data removed]",
      "text/plain": [
       "<Figure size 640x480 with 1 Axes>"
      ]
     },
     "metadata": {},
     "output_type": "display_data"
    }
   ],
   "source": [
    "df_predictions_agg.set_index('date').sort_index().drop('month', axis=1).plot()"
   ]
  },
  {
   "cell_type": "code",
   "execution_count": 25,
   "metadata": {},
   "outputs": [
    {
     "data": {
      "text/plain": [
       "<Axes: xlabel='date'>"
      ]
     },
     "execution_count": 25,
     "metadata": {},
     "output_type": "execute_result"
    },
    {
     "data": {
      "image/png": "[encoded data removed]",
      "text/plain": [
       "<Figure size 640x480 with 1 Axes>"
      ]
     },
     "metadata": {},
     "output_type": "display_data"
    }
   ],
   "source": [
    "df_predictions_agg.set_index('date').sort_index().drop('month', axis=1).plot()"
   ]
  },
  {
   "cell_type": "code",
   "execution_count": null,
   "metadata": {},
   "outputs": [],
   "source": []
  },
  {
   "cell_type": "code",
   "execution_count": 36,
   "metadata": {},
   "outputs": [],
   "source": [
    "# Redistribute using proportions\n",
    "\n",
    "df_predictions = X_test.reset_index()[['date', 'brand', 'family']].merge(df_predictions_agg, on='date', how='left')\n",
    "df_predictions = df_predictions.merge(df_proportions, on=['brand', 'family', 'month'], how='left')\n",
    "\n",
    "df_predictions['forecast_revenue'] = (\n",
    "    df_predictions['forecast_total_revenue'] * df_predictions['proportion']\n",
    ")\n",
    "df_predictions = df_predictions[['date', 'brand', 'family', 'forecast_revenue']]\n",
    "\n",
    "df_predictions = df_predictions.fillna(0)"
   ]
  },
  {
   "cell_type": "code",
   "execution_count": 37,
   "metadata": {},
   "outputs": [
    {
     "data": {
      "text/plain": [
       "np.float64(1871.402)"
      ]
     },
     "execution_count": 37,
     "metadata": {},
     "output_type": "execute_result"
    }
   ],
   "source": [
    "actual_vs_forecast = pd.merge(test_data[['date', 'brand', 'family', 'total_revenue']], df_predictions, on=['date', 'brand', 'family'], how='left')\n",
    "sarima_model.evaluate(actual_vs_forecast[\"total_revenue\"], actual_vs_forecast[\"forecast_revenue\"])"
   ]
  },
  {
   "cell_type": "code",
   "execution_count": 38,
   "metadata": {},
   "outputs": [
    {
     "data": {
      "text/plain": [
       "<Axes: >"
      ]
     },
     "execution_count": 38,
     "metadata": {},
     "output_type": "execute_result"
    },
    {
     "data": {
      "image/png": "[encoded data removed]",
      "text/plain": [
       "<Figure size 640x480 with 1 Axes>"
      ]
     },
     "metadata": {},
     "output_type": "display_data"
    }
   ],
   "source": [
    "family = \"Chándales Urban\"\n",
    "brand = \"adidas\"\n",
    "actual_vs_forecast[(actual_vs_forecast[\"family\"] == family) & (actual_vs_forecast[\"brand\"] == brand)][[\"total_revenue\", \"forecast_revenue\"]].plot()"
   ]
  },
  {
   "cell_type": "code",
   "execution_count": null,
   "metadata": {},
   "outputs": [],
   "source": []
  },
  {
   "cell_type": "code",
   "execution_count": null,
   "metadata": {},
   "outputs": [],
   "source": []
  }
 ],
 "metadata": {
  "kernelspec": {
   "display_name": ".venv",
   "language": "python",
   "name": "python3"
  },
  "language_info": {
   "codemirror_mode": {
    "name": "ipython",
    "version": 3
   },
   "file_extension": ".py",
   "mimetype": "text/x-python",
   "name": "python",
   "nbconvert_exporter": "python",
   "pygments_lexer": "ipython3",
   "version": "3.13.1"
  }
 },
 "nbformat": 4,
 "nbformat_minor": 2
}
